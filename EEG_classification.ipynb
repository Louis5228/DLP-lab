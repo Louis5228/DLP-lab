{
  "nbformat": 4,
  "nbformat_minor": 0,
  "metadata": {
    "colab": {
      "name": "EEG classification.ipynb",
      "provenance": [],
      "authorship_tag": "ABX9TyP60qrXxhTk2rvK81ROSxWx",
      "include_colab_link": true
    },
    "kernelspec": {
      "name": "python3",
      "display_name": "Python 3"
    },
    "language_info": {
      "name": "python"
    },
    "accelerator": "GPU"
  },
  "cells": [
    {
      "cell_type": "markdown",
      "metadata": {
        "id": "view-in-github",
        "colab_type": "text"
      },
      "source": [
        "<a href=\"https://colab.research.google.com/github/Louis5228/DLP-lab/blob/main/EEG_classification.ipynb\" target=\"_parent\"><img src=\"https://colab.research.google.com/assets/colab-badge.svg\" alt=\"Open In Colab\"/></a>"
      ]
    },
    {
      "cell_type": "code",
      "metadata": {
        "colab": {
          "base_uri": "https://localhost:8080/"
        },
        "id": "OQ85jmvrxhMj",
        "outputId": "f34b1b75-74df-4538-fec8-46fbf0cf07cf"
      },
      "source": [
        "%cd DLP-lab/Lab3/"
      ],
      "execution_count": 2,
      "outputs": [
        {
          "output_type": "stream",
          "text": [
            "/home/louis/DLP-lab/Lab3\n"
          ],
          "name": "stdout"
        }
      ]
    },
    {
      "cell_type": "code",
      "metadata": {
        "colab": {
          "base_uri": "https://localhost:8080/"
        },
        "id": "ZreWuXhmxxaP",
        "outputId": "b186b908-4b8d-4d9e-f89b-cfbd1a1c2e65"
      },
      "source": [
        "!pwd"
      ],
      "execution_count": 3,
      "outputs": [
        {
          "output_type": "stream",
          "text": [
            "/home/louis/DLP-lab/Lab3\r\n"
          ],
          "name": "stdout"
        }
      ]
    },
    {
      "cell_type": "code",
      "metadata": {
        "id": "30ZehJdHw_9R"
      },
      "source": [
        "import os\n",
        "import numpy as np\n",
        "import pandas as pd\n",
        "import matplotlib.pyplot as plt\n",
        "import torch\n",
        "import torch.nn as nn\n",
        "import torch.nn.functional as F\n",
        "import torch.optim as optim\n",
        "from torch.utils.data import TensorDataset, DataLoader\n",
        "from dataloader import read_bci_data"
      ],
      "execution_count": 4,
      "outputs": []
    },
    {
      "cell_type": "code",
      "metadata": {
        "colab": {
          "base_uri": "https://localhost:8080/"
        },
        "id": "KtoDZ4xix0ME",
        "outputId": "098fefe2-bbfe-43be-886f-a876b65e5073"
      },
      "source": [
        "train_x, train_t, test_x, test_t = read_bci_data()\n",
        "\n",
        "dataset_train = TensorDataset(torch.from_numpy(train_x), torch.from_numpy(train_t))\n",
        "loader_train = DataLoader(dataset_train, batch_size=256, shuffle=True, num_workers=4)\n",
        "\n",
        "dataset_test = TensorDataset(torch.from_numpy(test_x), torch.from_numpy(test_t))\n",
        "loader_test = DataLoader(dataset_test, batch_size=256, shuffle=False, num_workers=4)\n",
        "\n",
        "print(\"test dataset:\\n\", dataset_test[:5])"
      ],
      "execution_count": 5,
      "outputs": [
        {
          "output_type": "stream",
          "text": [
            "(1080, 1, 2, 750) (1080,) (1080, 1, 2, 750) (1080,)\n",
            "test dataset:\n",
            " (tensor([[[[ -8.3359,  -8.7829,  -9.3748,  ...,  -2.1328,  -2.8224,  -2.0885],\n",
            "          [-10.6524,  -8.4476,  -5.9331,  ...,   0.5607,  -4.1266,  -8.1379]]],\n",
            "\n",
            "\n",
            "        [[[ -1.6904,  -3.2816,  -3.6523,  ...,   4.0093,   0.7018,   0.7155],\n",
            "          [  3.4033,   2.0698,  -1.6959,  ...,   7.7458,   3.5498,   3.7207]]],\n",
            "\n",
            "\n",
            "        [[[ -2.6835,  -0.4836,   1.9848,  ...,  -3.9513,   0.4729,   5.2923],\n",
            "          [  2.6602,   3.9587,   4.9871,  ...,  -0.6675,  -0.2266,   0.0633]]],\n",
            "\n",
            "\n",
            "        [[[  2.3342,   0.6194,  -1.9070,  ...,  -2.2655,  -5.7164,  -8.4991],\n",
            "          [  1.2229,   1.9431,   1.2519,  ...,  -6.1559,  -6.6869,  -7.4559]]],\n",
            "\n",
            "\n",
            "        [[[  0.7491,   0.4653,  -0.4241,  ...,  -2.0870,  -5.9208,  -5.2572],\n",
            "          [  3.8061,   2.8479,   1.0993,  ...,  -1.1100,  -2.9349,  -3.1683]]]],\n",
            "       dtype=torch.float64), tensor([1., 0., 1., 1., 1.], dtype=torch.float64))\n"
          ],
          "name": "stdout"
        }
      ]
    },
    {
      "cell_type": "code",
      "metadata": {
        "colab": {
          "base_uri": "https://localhost:8080/",
          "height": 317
        },
        "id": "LDJ-zWdZ2t-j",
        "outputId": "dc6588ca-e9fc-4306-9111-57e72a2a38b7"
      },
      "source": [
        "rand = int(np.random.randint(0, train_x.shape[0], 1))\n",
        "print(\"sample_id :\", rand)\n",
        "plt.figure(figsize=(10, 2))\n",
        "plt.plot(train_x[rand, 0, 0])\n",
        "plt.figure(figsize=(10, 2))\n",
        "plt.plot(train_x[rand, 0, 1])\n",
        "plt.show()"
      ],
      "execution_count": 6,
      "outputs": [
        {
          "output_type": "stream",
          "text": [
            "sample_id : 699\n"
          ],
          "name": "stdout"
        },
        {
          "output_type": "display_data",
          "data": {
            "text/plain": [
              "<Figure size 720x144 with 1 Axes>"
            ],
            "image/png": "[encoded data removed]"
          },
          "metadata": {
            "tags": [],
            "needs_background": "light"
          }
        },
        {
          "output_type": "display_data",
          "data": {
            "text/plain": [
              "<Figure size 720x144 with 1 Axes>"
            ],
            "image/png": "[encoded data removed]"
          },
          "metadata": {
            "tags": [],
            "needs_background": "light"
          }
        }
      ]
    },
    {
      "cell_type": "code",
      "metadata": {
        "id": "XpHRDkPP4GAm"
      },
      "source": [
        "class EEGNet(nn.Module):\n",
        "  def __init__(self, activation=nn.ReLU()):\n",
        "    super(EEGNet, self).__init__()\n",
        "    self.firstconv=nn.Sequential(\n",
        "        nn.Conv2d(1, 16, kernel_size=(1, 51), stride=(1, 1), padding=(0, 25), bias=False),\n",
        "        nn.BatchNorm2d(16, eps=1e-05, momentum=0.1, affine=True, track_running_stats=True)\n",
        "    )\n",
        "    self.depthwiseConv=nn.Sequential(\n",
        "        nn.Conv2d(16, 32, kernel_size=(2, 1), stride=(1,1), groups=16, bias=False),\n",
        "        nn.BatchNorm2d(32, eps=1e-05, momentum=0.1, affine=True, track_running_stats=True),\n",
        "        activation,\n",
        "        nn.AvgPool2d(kernel_size=(1,4),stride=(1,4),padding=0),\n",
        "        nn.Dropout(p=0.25)\n",
        "    )\n",
        "    self.seperableConv=nn.Sequential(\n",
        "        nn.Conv2d(32, 32, kernel_size=(1, 15), stride=(1, 1), padding=(0, 7), bias=False),\n",
        "        nn.BatchNorm2d(32, eps=1e-05, momentum=0.1, affine=True, track_running_stats=True),\n",
        "        activation,\n",
        "        nn.AvgPool2d(kernel_size=(1, 8), stride=(1, 8), padding=0),\n",
        "        nn.Dropout(p=0.25)\n",
        "    )\n",
        "    self.classify=nn.Linear(736, 2, bias=True)\n",
        "\n",
        "  def forward(self, x):\n",
        "    out=self.firstconv(x)\n",
        "    out=self.depthwiseConv(out)\n",
        "    out=self.seperableConv(out)\n",
        "    out=out.view(out.shape[0], -1)\n",
        "    out=self.classify(out)\n",
        "    return out"
      ],
      "execution_count": 7,
      "outputs": []
    },
    {
      "cell_type": "code",
      "metadata": {
        "id": "8fBmZm9ljQBQ"
      },
      "source": [
        "def evaluate(model, loader_test, device):\n",
        "  correct = 0\n",
        "  for i, data in enumerate(loader_test, 0):\n",
        "      inputs = data[0].to(device, dtype=torch.float)\n",
        "      labels = data[1].to(device, dtype=torch.long)\n",
        "      predict = model(inputs)\n",
        "      correct += predict.max(dim=1)[1].eq(labels).sum().item()\n",
        "\n",
        "  correct = (correct / len(loader_train.dataset)) * 100.0\n",
        "  return correct"
      ],
      "execution_count": 11,
      "outputs": []
    },
    {
      "cell_type": "code",
      "metadata": {
        "colab": {
          "base_uri": "https://localhost:8080/"
        },
        "id": "i4nTGox3ycAy",
        "outputId": "5e6717de-706b-42bd-fcac-5c802bbdb723"
      },
      "source": [
        "print(torch.__version__)\n",
        "device=torch.device('cuda' if torch.cuda.is_available() else 'cpu')\n",
        "print(device)"
      ],
      "execution_count": 12,
      "outputs": [
        {
          "output_type": "stream",
          "text": [
            "1.6.0+cu101\n",
            "cuda\n"
          ],
          "name": "stdout"
        }
      ]
    },
    {
      "cell_type": "code",
      "metadata": {
        "id": "rQlMQNfEG8EJ"
      },
      "source": [
        "lr = 0.001\n",
        "epochs = 300"
      ],
      "execution_count": 10,
      "outputs": []
    },
    {
      "cell_type": "code",
      "metadata": {
        "colab": {
          "base_uri": "https://localhost:8080/"
        },
        "id": "NjaJJ1FsHk7n",
        "outputId": "2f403915-64dd-441d-ef04-a28ee11dbf61"
      },
      "source": [
        "df = pd.DataFrame()\n",
        "df['epoch'] = range(1, epochs + 1)\n",
        "\n",
        "criterion = nn.CrossEntropyLoss()\n",
        "activation = {'ReLU':nn.ReLU(), 'LeakyReLU':nn.LeakyReLU(), 'ELU':nn.ELU()}\n",
        "for name, activation in activation.items():\n",
        "  print(\"Start training EEGNet with {}\".format(name))\n",
        "  model = EEGNet(activation).to(device)\n",
        "  optimizer = optim.Adam(model.parameters(), lr=lr, weight_decay=0.01)\n",
        "  train_acc = []\n",
        "  test_acc = []\n",
        "\n",
        "  for epoch in range(1, epochs+1):\n",
        "\n",
        "    ## train\n",
        "    model.train()\n",
        "    running_loss = 0\n",
        "    correct = 0\n",
        "    for i, data in enumerate(loader_train, 0):\n",
        "      # get the inputs\n",
        "      inputs = data[0].to(device, dtype=torch.float)\n",
        "      labels = data[1].to(device, dtype=torch.long)\n",
        "\n",
        "      # zero the parameter gradients\n",
        "      optimizer.zero_grad()\n",
        "\n",
        "      # forward + backward + optimize\n",
        "      predict = model(inputs)\n",
        "      loss = criterion(predict, labels)\n",
        "      running_loss += loss.item()\n",
        "      correct += predict.max(dim=1)[1].eq(labels).sum().item()\n",
        "      loss.backward()\n",
        "      optimizer.step()\n",
        "\n",
        "    running_loss /= len(loader_train.dataset)\n",
        "    train_correct = (correct / len(loader_train.dataset)) * 100.0\n",
        "    train_acc.append(train_correct)\n",
        "\n",
        "    ## test\n",
        "    model.eval()\n",
        "    test_correct = evaluate(model, loader_test, device)\n",
        "    test_acc.append(test_correct)\n",
        "\n",
        "    if epoch % 10 == 0:\n",
        "      print(\"Train: epcoh{:>3d}  loss:{:.5f}  acc:{:.2f}%  Test: acc:{:.2f}%\".format(epoch, running_loss, train_correct, test_correct))\n",
        "  \n",
        "  df[name + '_train'] = train_acc\n",
        "  df[name + '_test'] = test_acc\n",
        "  print(\"Finished training EEGNet with {}\\n\".format(name))"
      ],
      "execution_count": 13,
      "outputs": [
        {
          "output_type": "stream",
          "text": [
            "Start training EEGNet with ReLU\n",
            "Train: epcoh 10  loss:0.00220  acc:76.39%  Test: acc:71.11%\n",
            "Train: epcoh 20  loss:0.00199  acc:80.00%  Test: acc:75.93%\n",
            "Train: epcoh 30  loss:0.00153  acc:87.13%  Test: acc:80.83%\n",
            "Train: epcoh 40  loss:0.00134  acc:88.43%  Test: acc:82.59%\n",
            "Train: epcoh 50  loss:0.00114  acc:90.74%  Test: acc:83.33%\n",
            "Train: epcoh 60  loss:0.00103  acc:91.76%  Test: acc:84.63%\n",
            "Train: epcoh 70  loss:0.00103  acc:92.22%  Test: acc:84.26%\n",
            "Train: epcoh 80  loss:0.00093  acc:92.41%  Test: acc:84.91%\n",
            "Train: epcoh 90  loss:0.00085  acc:93.70%  Test: acc:83.89%\n",
            "Train: epcoh100  loss:0.00078  acc:94.07%  Test: acc:85.56%\n",
            "Train: epcoh110  loss:0.00088  acc:92.87%  Test: acc:83.52%\n",
            "Train: epcoh120  loss:0.00083  acc:93.89%  Test: acc:82.69%\n",
            "Train: epcoh130  loss:0.00065  acc:94.81%  Test: acc:83.24%\n",
            "Train: epcoh140  loss:0.00065  acc:95.74%  Test: acc:86.30%\n",
            "Train: epcoh150  loss:0.00079  acc:95.19%  Test: acc:86.11%\n",
            "Train: epcoh160  loss:0.00064  acc:96.20%  Test: acc:85.19%\n",
            "Train: epcoh170  loss:0.00069  acc:95.19%  Test: acc:86.48%\n",
            "Train: epcoh180  loss:0.00062  acc:95.93%  Test: acc:85.46%\n",
            "Train: epcoh190  loss:0.00060  acc:96.94%  Test: acc:83.33%\n",
            "Train: epcoh200  loss:0.00052  acc:96.57%  Test: acc:86.76%\n",
            "Train: epcoh210  loss:0.00063  acc:96.02%  Test: acc:84.26%\n",
            "Train: epcoh220  loss:0.00060  acc:95.46%  Test: acc:85.56%\n",
            "Train: epcoh230  loss:0.00055  acc:95.93%  Test: acc:87.04%\n",
            "Train: epcoh240  loss:0.00054  acc:96.20%  Test: acc:87.04%\n",
            "Train: epcoh250  loss:0.00048  acc:96.67%  Test: acc:86.30%\n",
            "Train: epcoh260  loss:0.00053  acc:97.04%  Test: acc:82.78%\n",
            "Train: epcoh270  loss:0.00049  acc:96.94%  Test: acc:86.85%\n",
            "Train: epcoh280  loss:0.00047  acc:96.85%  Test: acc:86.02%\n",
            "Train: epcoh290  loss:0.00051  acc:97.13%  Test: acc:84.54%\n",
            "Train: epcoh300  loss:0.00048  acc:96.76%  Test: acc:83.52%\n",
            "Finished training EEGNet with ReLU\n",
            "\n",
            "Start training EEGNet with LeakyReLU\n",
            "Train: epcoh 10  loss:0.00224  acc:75.65%  Test: acc:70.93%\n",
            "Train: epcoh 20  loss:0.00197  acc:80.93%  Test: acc:73.61%\n",
            "Train: epcoh 30  loss:0.00174  acc:84.44%  Test: acc:75.37%\n",
            "Train: epcoh 40  loss:0.00151  acc:86.30%  Test: acc:78.61%\n",
            "Train: epcoh 50  loss:0.00146  acc:88.61%  Test: acc:78.43%\n",
            "Train: epcoh 60  loss:0.00115  acc:90.09%  Test: acc:80.46%\n",
            "Train: epcoh 70  loss:0.00110  acc:91.02%  Test: acc:81.48%\n",
            "Train: epcoh 80  loss:0.00103  acc:91.76%  Test: acc:82.69%\n",
            "Train: epcoh 90  loss:0.00099  acc:92.31%  Test: acc:84.26%\n",
            "Train: epcoh100  loss:0.00074  acc:94.54%  Test: acc:81.67%\n",
            "Train: epcoh110  loss:0.00085  acc:93.98%  Test: acc:84.63%\n",
            "Train: epcoh120  loss:0.00081  acc:93.33%  Test: acc:81.94%\n",
            "Train: epcoh130  loss:0.00070  acc:96.02%  Test: acc:84.91%\n",
            "Train: epcoh140  loss:0.00068  acc:96.11%  Test: acc:84.54%\n",
            "Train: epcoh150  loss:0.00073  acc:94.72%  Test: acc:83.80%\n",
            "Train: epcoh160  loss:0.00072  acc:95.56%  Test: acc:84.81%\n",
            "Train: epcoh170  loss:0.00061  acc:95.56%  Test: acc:85.00%\n",
            "Train: epcoh180  loss:0.00061  acc:95.93%  Test: acc:86.11%\n",
            "Train: epcoh190  loss:0.00068  acc:95.19%  Test: acc:85.00%\n",
            "Train: epcoh200  loss:0.00055  acc:95.74%  Test: acc:84.72%\n",
            "Train: epcoh210  loss:0.00055  acc:96.11%  Test: acc:85.00%\n",
            "Train: epcoh220  loss:0.00055  acc:96.94%  Test: acc:85.46%\n",
            "Train: epcoh230  loss:0.00052  acc:96.30%  Test: acc:85.65%\n",
            "Train: epcoh240  loss:0.00050  acc:97.13%  Test: acc:85.74%\n",
            "Train: epcoh250  loss:0.00053  acc:96.20%  Test: acc:86.02%\n",
            "Train: epcoh260  loss:0.00054  acc:96.94%  Test: acc:85.28%\n",
            "Train: epcoh270  loss:0.00056  acc:95.93%  Test: acc:85.65%\n",
            "Train: epcoh280  loss:0.00051  acc:97.04%  Test: acc:86.30%\n",
            "Train: epcoh290  loss:0.00054  acc:96.39%  Test: acc:84.91%\n",
            "Train: epcoh300  loss:0.00055  acc:95.37%  Test: acc:84.26%\n",
            "Finished training EEGNet with LeakyReLU\n",
            "\n",
            "Start training EEGNet with ELU\n",
            "Train: epcoh 10  loss:0.00225  acc:77.13%  Test: acc:72.31%\n",
            "Train: epcoh 20  loss:0.00209  acc:77.87%  Test: acc:73.33%\n",
            "Train: epcoh 30  loss:0.00180  acc:83.98%  Test: acc:77.50%\n",
            "Train: epcoh 40  loss:0.00171  acc:84.63%  Test: acc:79.72%\n",
            "Train: epcoh 50  loss:0.00158  acc:85.83%  Test: acc:80.56%\n",
            "Train: epcoh 60  loss:0.00138  acc:87.96%  Test: acc:81.20%\n",
            "Train: epcoh 70  loss:0.00133  acc:88.33%  Test: acc:80.93%\n",
            "Train: epcoh 80  loss:0.00126  acc:89.17%  Test: acc:82.41%\n",
            "Train: epcoh 90  loss:0.00126  acc:88.98%  Test: acc:81.30%\n",
            "Train: epcoh100  loss:0.00134  acc:88.80%  Test: acc:81.85%\n",
            "Train: epcoh110  loss:0.00121  acc:89.26%  Test: acc:82.50%\n",
            "Train: epcoh120  loss:0.00121  acc:89.91%  Test: acc:82.13%\n",
            "Train: epcoh130  loss:0.00132  acc:88.06%  Test: acc:82.59%\n",
            "Train: epcoh140  loss:0.00115  acc:90.83%  Test: acc:82.31%\n",
            "Train: epcoh150  loss:0.00123  acc:88.61%  Test: acc:82.22%\n",
            "Train: epcoh160  loss:0.00111  acc:90.19%  Test: acc:83.15%\n",
            "Train: epcoh170  loss:0.00115  acc:89.17%  Test: acc:82.59%\n",
            "Train: epcoh180  loss:0.00128  acc:89.07%  Test: acc:82.87%\n",
            "Train: epcoh190  loss:0.00118  acc:89.44%  Test: acc:81.39%\n",
            "Train: epcoh200  loss:0.00116  acc:90.37%  Test: acc:82.22%\n",
            "Train: epcoh210  loss:0.00107  acc:90.00%  Test: acc:82.87%\n",
            "Train: epcoh220  loss:0.00111  acc:89.63%  Test: acc:81.76%\n",
            "Train: epcoh230  loss:0.00109  acc:88.89%  Test: acc:82.96%\n",
            "Train: epcoh240  loss:0.00104  acc:90.46%  Test: acc:83.43%\n",
            "Train: epcoh250  loss:0.00119  acc:91.20%  Test: acc:83.06%\n",
            "Train: epcoh260  loss:0.00108  acc:90.65%  Test: acc:84.17%\n",
            "Train: epcoh270  loss:0.00111  acc:90.83%  Test: acc:83.61%\n",
            "Train: epcoh280  loss:0.00125  acc:89.72%  Test: acc:83.15%\n",
            "Train: epcoh290  loss:0.00111  acc:90.74%  Test: acc:84.17%\n",
            "Train: epcoh300  loss:0.00115  acc:90.56%  Test: acc:82.41%\n",
            "Finished training EEGNet with ELU\n",
            "\n"
          ],
          "name": "stdout"
        }
      ]
    }
  ]
}