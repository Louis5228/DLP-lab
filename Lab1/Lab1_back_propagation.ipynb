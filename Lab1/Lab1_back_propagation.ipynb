{
  "nbformat": 4,
  "nbformat_minor": 0,
  "metadata": {
    "colab": {
      "name": "Lab1 : back-propagation.ipynb",
      "provenance": [],
      "authorship_tag": "ABX9TyPMXXagfFJKSyaeanxlf5lh",
      "include_colab_link": true
    },
    "kernelspec": {
      "name": "python3",
      "display_name": "Python 3"
    },
    "language_info": {
      "name": "python"
    }
  },
  "cells": [
    {
      "cell_type": "markdown",
      "metadata": {
        "id": "view-in-github",
        "colab_type": "text"
      },
      "source": [
        "<a href=\"https://colab.research.google.com/github/Louis5228/DLP-lab/blob/main/Lab1_back_propagation.ipynb\" target=\"_parent\"><img src=\"https://colab.research.google.com/assets/colab-badge.svg\" alt=\"Open In Colab\"/></a>"
      ]
    },
    {
      "cell_type": "code",
      "metadata": {
        "id": "mHmWlLhDNr9N"
      },
      "source": [
        "import numpy as np\n",
        "import matplotlib.pyplot as plt"
      ],
      "execution_count": 36,
      "outputs": []
    },
    {
      "cell_type": "code",
      "metadata": {
        "id": "jKZtjROzOFvN"
      },
      "source": [
        "def sigmoid(x):\n",
        "  return 1.0 / (1.0 + np.exp(-x))\n",
        "\n",
        "def derivative_sigmoid(x):\n",
        "  return np.multiply(x, 1.0 - x)\n",
        "\n",
        "def generate_linear(n = 100):\n",
        "  pts = np.random.uniform(0, 1, (n, 2))\n",
        "  inputs = []\n",
        "  labels = []\n",
        "  for pt in pts:\n",
        "    inputs.append([pt[0], pt[1]])\n",
        "    distance = (pt[0] - pt[1]) / 1.414\n",
        "    if pt[0] > pt[1]:\n",
        "      labels.append(0)\n",
        "    else:\n",
        "      labels.append(1)\n",
        "  return np.array(inputs), np.array(labels).reshape(n, 1)\n",
        "\n",
        "def generate_XOR_easy():\n",
        "  inputs = []\n",
        "  labels = []\n",
        "  for i in range(11):\n",
        "    inputs.append([0.1*i, 0.1*i])\n",
        "    labels.append(0)\n",
        "\n",
        "    if 0.1*i == 0.5:\n",
        "      continue\n",
        "    \n",
        "    inputs.append([0.1*i, 1 - 0.1*i])\n",
        "    labels.append(1)\n",
        "\n",
        "  return np.array(inputs), np.array(labels).reshape(21, 1)\n",
        "\n",
        "def show_result(x, y, pred_y):\n",
        "  plt.figure(figsize=(12, 5))\n",
        "  plt.subplot(121)\n",
        "  plt.title(\"Ground truth\", fontsize=18)\n",
        "  for i in range(x.shape[0]):\n",
        "    if y[i] == 0:\n",
        "      plt.plot(x[i][0], x[i][1], 'ro')\n",
        "    else:\n",
        "      plt.plot(x[i][0], x[i][1], 'bo')\n",
        "  \n",
        "  plt.subplot(122)\n",
        "  plt.title(\"Predict result\", fontsize=18)\n",
        "  for i in range(x.shape[0]):\n",
        "    if pred_y[i] < 0.5:\n",
        "      plt.plot(x[i][0], x[i][1], 'ro')\n",
        "    else:\n",
        "      plt.plot(x[i][0], x[i][1], 'bo')\n",
        "  \n",
        "  plt.show()\n",
        "\n",
        "def plot_learning_curve(epochs, loss):\n",
        "  plt.title('Learning curve', fontsize = 20)\n",
        "  plt.xlabel('epochs', fontsize = 15)\n",
        "  plt.ylabel('Loss', fontsize = 15)\n",
        "  plt.plot(np.arange(1, epochs+1), loss, color='red')\n",
        "  plt.grid(True)\n",
        "  plt.show()\n",
        "\n",
        "def MSE(y_pred, t):\n",
        "  return np.mean((y_pred - t)**2)\n",
        "\n",
        "def train(epochs, lr, x, t, w1, w2, w3):\n",
        "  err_l = []\n",
        "  for epoch in range(epochs):\n",
        "    # Forward propagation\n",
        "    z1 = sigmoid(x.dot(w1)) #n*4\n",
        "    z2 = sigmoid(z1.dot(w2)) #n*4\n",
        "    y_pred = sigmoid(z2.dot(w3)) #n*1\n",
        "    \n",
        "    err = MSE(y_pred, t)\n",
        "    err_l.append(err)\n",
        "    if epoch % 1000 == 0:\n",
        "      print(\"epoch {:5d} loss : {:.15f}\".format(epoch, err))\n",
        "\n",
        "    # Back propagation\n",
        "    err_grad = t - y_pred #n*1\n",
        "    d_predict_output = err_grad * derivative_sigmoid(y_pred) #n*1\n",
        "    d_hid2_output = d_predict_output.dot(w3.T) * derivative_sigmoid(z2) #n*4\n",
        "    d_hid1_output = d_hid2_output.dot(w2) * derivative_sigmoid(z1) #n*4\n",
        "\n",
        "    w3 += lr * z2.T.dot(d_predict_output) #4*1\n",
        "    w2 += lr * z1.T.dot(d_hid2_output) # 4*4\n",
        "    w1 += lr * x.T.dot(d_hid1_output) #2*4\n",
        "  \n",
        "  # Predict result\n",
        "  print(\"\\nTesting prediction:\\n\", y_pred)\n",
        "  # Accuracy\n",
        "  acc = np.count_nonzero((y_pred - t) < 0.02) / t.shape[0]\n",
        "  print(\"\\nAccuracy :\", acc)\n",
        "  show_result(x, t, y_pred)\n",
        "  plot_learning_curve(epochs, err_l)\n",
        "\n",
        "def train_withot_act(epochs, lr, x, t, w1, w2, w3):\n",
        "  err_l = []\n",
        "  for epoch in range(epochs):\n",
        "    # Forward propagation\n",
        "    z1 = x.dot(w1) #n*4\n",
        "    z2 = z1.dot(w2) #n*4\n",
        "    y_pred = z2.dot(w3) #n*1\n",
        "    \n",
        "    err = MSE(y_pred, t)\n",
        "    err_l.append(err)\n",
        "    if epoch % 1000 == 0:\n",
        "      print(\"epoch {:5d} loss : {:.15f}\".format(epoch, err))\n",
        "\n",
        "    # Back propagation\n",
        "    err_grad = t - y_pred #n*1\n",
        "    d_predict_output = err_grad * y_pred #n*1\n",
        "    d_hid2_output = d_predict_output.dot(w3.T) * z2 #n*4\n",
        "    d_hid1_output = d_hid2_output.dot(w2) * z1 #n*4\n",
        "\n",
        "    w3 += lr * z2.T.dot(d_predict_output) #4*1\n",
        "    w2 += lr * z1.T.dot(d_hid2_output) # 4*4\n",
        "    w1 += lr * x.T.dot(d_hid1_output) #2*4\n",
        "  \n",
        "  # Predict result\n",
        "  print(\"\\nTesting prediction:\\n\", y_pred)\n",
        "  # Accuracy\n",
        "  acc = np.count_nonzero((y_pred - t) < 0.02) / t.shape[0]\n",
        "  print(\"\\nAccuracy :\", acc)\n",
        "  show_result(x, t, y_pred)\n",
        "  plot_learning_curve(epochs, err_l)"
      ],
      "execution_count": 37,
      "outputs": []
    },
    {
      "cell_type": "code",
      "metadata": {
        "id": "G5lOWh22UrP5"
      },
      "source": [
        "# Define number of neurons for each layer\n",
        "input_Neurons = 2\n",
        "hid1_Neurons = 4\n",
        "hid2_Neurons = 4\n",
        "output_Neurons = 1"
      ],
      "execution_count": 38,
      "outputs": []
    },
    {
      "cell_type": "markdown",
      "metadata": {
        "id": "3xMzi2KuURwA"
      },
      "source": [
        "## 1. Linear dataset"
      ]
    },
    {
      "cell_type": "code",
      "metadata": {
        "colab": {
          "base_uri": "https://localhost:8080/",
          "height": 1000
        },
        "id": "YHRoCqQYR0LP",
        "outputId": "5fa3ea02-22f9-4fc4-a266-15e531ab2f44"
      },
      "source": [
        "# Random weights initialization\n",
        "w1 = np.random.uniform(size=(input_Neurons, hid1_Neurons))\n",
        "w2 = np.random.uniform(size=(hid1_Neurons, hid2_Neurons))\n",
        "w3 = np.random.uniform(size=(hid2_Neurons, output_Neurons))\n",
        "\n",
        "# Define epochs and learning rate\n",
        "epochs = 50000\n",
        "lr = 0.1\n",
        "\n",
        "x, t = generate_linear(n=100)\n",
        "train(epochs, lr, x, t, w1, w2, w3)"
      ],
      "execution_count": 39,
      "outputs": [
        {
          "output_type": "stream",
          "text": [
            "epoch     0 loss : 0.342814620320431\n",
            "epoch  1000 loss : 0.003034170602918\n",
            "epoch  2000 loss : 0.000923766693634\n",
            "epoch  3000 loss : 0.000479260950503\n",
            "epoch  4000 loss : 0.000305733936471\n",
            "epoch  5000 loss : 0.000217559387688\n",
            "epoch  6000 loss : 0.000165630381720\n",
            "epoch  7000 loss : 0.000132001126358\n",
            "epoch  8000 loss : 0.000108728262443\n",
            "epoch  9000 loss : 0.000091813129944\n",
            "epoch 10000 loss : 0.000079046676101\n",
            "epoch 11000 loss : 0.000069119247152\n",
            "epoch 12000 loss : 0.000061210071271\n",
            "epoch 13000 loss : 0.000054781159492\n",
            "epoch 14000 loss : 0.000049466576137\n",
            "epoch 15000 loss : 0.000045009555548\n",
            "epoch 16000 loss : 0.000041225099821\n",
            "epoch 17000 loss : 0.000037976842642\n",
            "epoch 18000 loss : 0.000035162247567\n",
            "epoch 19000 loss : 0.000032702857285\n",
            "epoch 20000 loss : 0.000030537703335\n",
            "epoch 21000 loss : 0.000028618749721\n",
            "epoch 22000 loss : 0.000026907678422\n",
            "epoch 23000 loss : 0.000025373580172\n",
            "epoch 24000 loss : 0.000023991268239\n",
            "epoch 25000 loss : 0.000022740028787\n",
            "epoch 26000 loss : 0.000021602682217\n",
            "epoch 27000 loss : 0.000020564869358\n",
            "epoch 28000 loss : 0.000019614502480\n",
            "epoch 29000 loss : 0.000018741338648\n",
            "epoch 30000 loss : 0.000017936644947\n",
            "epoch 31000 loss : 0.000017192933442\n",
            "epoch 32000 loss : 0.000016503749601\n",
            "epoch 33000 loss : 0.000015863502087\n",
            "epoch 34000 loss : 0.000015267324832\n",
            "epoch 35000 loss : 0.000014710964526\n",
            "epoch 36000 loss : 0.000014190688241\n",
            "epoch 37000 loss : 0.000013703207142\n",
            "epoch 38000 loss : 0.000013245613121\n",
            "epoch 39000 loss : 0.000012815325901\n",
            "epoch 40000 loss : 0.000012410048636\n",
            "epoch 41000 loss : 0.000012027730484\n",
            "epoch 42000 loss : 0.000011666534912\n",
            "epoch 43000 loss : 0.000011324812734\n",
            "epoch 44000 loss : 0.000011001079086\n",
            "epoch 45000 loss : 0.000010693993695\n",
            "epoch 46000 loss : 0.000010402343893\n",
            "epoch 47000 loss : 0.000010125029958\n",
            "epoch 48000 loss : 0.000009861052408\n",
            "epoch 49000 loss : 0.000009609500966\n",
            "\n",
            "Testing prediction:\n",
            " [[9.99997235e-01]\n",
            " [4.76006101e-07]\n",
            " [9.99997527e-01]\n",
            " [4.67521585e-07]\n",
            " [2.66689316e-07]\n",
            " [9.78322631e-01]\n",
            " [4.38460170e-07]\n",
            " [9.99997081e-01]\n",
            " [3.71926408e-07]\n",
            " [3.10637098e-07]\n",
            " [9.99997293e-01]\n",
            " [9.99997443e-01]\n",
            " [9.99997539e-01]\n",
            " [2.40541786e-07]\n",
            " [5.28517888e-07]\n",
            " [1.49514911e-04]\n",
            " [2.47791158e-07]\n",
            " [9.99997431e-01]\n",
            " [9.99996752e-01]\n",
            " [9.99997560e-01]\n",
            " [9.99997134e-01]\n",
            " [9.99997561e-01]\n",
            " [9.99995430e-01]\n",
            " [9.99990903e-01]\n",
            " [2.52316250e-07]\n",
            " [3.04616195e-07]\n",
            " [7.57336858e-05]\n",
            " [9.98454364e-01]\n",
            " [2.75586567e-07]\n",
            " [9.99994377e-01]\n",
            " [9.99993810e-01]\n",
            " [1.38082514e-02]\n",
            " [8.73185594e-07]\n",
            " [9.99941392e-01]\n",
            " [4.09308134e-07]\n",
            " [1.96914385e-06]\n",
            " [2.99542438e-07]\n",
            " [9.99902214e-01]\n",
            " [7.19521628e-07]\n",
            " [9.99997264e-01]\n",
            " [9.99996246e-01]\n",
            " [9.99995680e-01]\n",
            " [9.99987290e-01]\n",
            " [2.72263451e-07]\n",
            " [1.03693762e-06]\n",
            " [9.99997412e-01]\n",
            " [2.52618634e-07]\n",
            " [9.99996955e-01]\n",
            " [9.99997537e-01]\n",
            " [9.99997092e-01]\n",
            " [9.99205666e-01]\n",
            " [3.49708975e-07]\n",
            " [2.54095212e-07]\n",
            " [9.99997526e-01]\n",
            " [9.99996514e-01]\n",
            " [3.27804004e-07]\n",
            " [9.99753673e-01]\n",
            " [9.99997525e-01]\n",
            " [9.99997478e-01]\n",
            " [9.99384901e-01]\n",
            " [3.05000316e-06]\n",
            " [3.95769912e-07]\n",
            " [9.99852866e-01]\n",
            " [1.44097218e-02]\n",
            " [9.99996965e-01]\n",
            " [2.50133278e-07]\n",
            " [7.73924178e-03]\n",
            " [9.99997152e-01]\n",
            " [9.99992882e-01]\n",
            " [1.72369733e-05]\n",
            " [9.99996966e-01]\n",
            " [9.98150138e-01]\n",
            " [6.27821531e-07]\n",
            " [9.99995369e-01]\n",
            " [3.09792288e-07]\n",
            " [3.39265453e-07]\n",
            " [9.99997408e-01]\n",
            " [1.32633749e-06]\n",
            " [9.99997065e-01]\n",
            " [9.99997409e-01]\n",
            " [9.98614088e-01]\n",
            " [5.27913489e-07]\n",
            " [9.99995029e-01]\n",
            " [6.87211579e-07]\n",
            " [1.74352519e-05]\n",
            " [9.99997265e-01]\n",
            " [3.32005619e-07]\n",
            " [3.10059726e-06]\n",
            " [9.99997158e-01]\n",
            " [3.46072962e-07]\n",
            " [9.99997556e-01]\n",
            " [9.53490821e-07]\n",
            " [2.76041394e-06]\n",
            " [9.99997035e-01]\n",
            " [9.99996673e-01]\n",
            " [9.99997417e-01]\n",
            " [3.12717810e-07]\n",
            " [9.99997476e-01]\n",
            " [3.43799270e-07]\n",
            " [9.99995318e-01]]\n",
            "\n",
            "Accuracy : 1.0\n"
          ],
          "name": "stdout"
        },
        {
          "output_type": "display_data",
          "data": {
            "image/png": "[encoded data removed]",
            "text/plain": [
              "<Figure size 864x360 with 2 Axes>"
            ]
          },
          "metadata": {
            "tags": [],
            "needs_background": "light"
          }
        },
        {
          "output_type": "display_data",
          "data": {
            "image/png": "[encoded data removed]",
            "text/plain": [
              "<Figure size 432x288 with 1 Axes>"
            ]
          },
          "metadata": {
            "tags": [],
            "needs_background": "light"
          }
        }
      ]
    },
    {
      "cell_type": "markdown",
      "metadata": {
        "id": "OvLRBg4q426U"
      },
      "source": [
        "## 2. XOR dataset"
      ]
    },
    {
      "cell_type": "code",
      "metadata": {
        "colab": {
          "base_uri": "https://localhost:8080/",
          "height": 1000
        },
        "id": "ee7ZmIY642Xd",
        "outputId": "292aad4a-b662-4a9d-e9c3-ae02b4c8e7ab"
      },
      "source": [
        "# Random weights initialization\n",
        "w1 = np.random.uniform(size=(input_Neurons, hid1_Neurons))\n",
        "w2 = np.random.uniform(size=(hid1_Neurons, hid2_Neurons))\n",
        "w3 = np.random.uniform(size=(hid2_Neurons, output_Neurons))\n",
        "\n",
        "# Define epochs and learning rate\n",
        "epochs = 50000\n",
        "lr = 0.05\n",
        "\n",
        "x, t = generate_XOR_easy()\n",
        "train(epochs, lr, x, t, w1, w2, w3)"
      ],
      "execution_count": 40,
      "outputs": [
        {
          "output_type": "stream",
          "text": [
            "epoch     0 loss : 0.420095796422224\n",
            "epoch  1000 loss : 0.249494391126183\n",
            "epoch  2000 loss : 0.249481570163918\n",
            "epoch  3000 loss : 0.249467381085927\n",
            "epoch  4000 loss : 0.249448940084533\n",
            "epoch  5000 loss : 0.249421214486797\n",
            "epoch  6000 loss : 0.249374957497000\n",
            "epoch  7000 loss : 0.249292542298710\n",
            "epoch  8000 loss : 0.249139972143315\n",
            "epoch  9000 loss : 0.248852556525845\n",
            "epoch 10000 loss : 0.248309859017186\n",
            "epoch 11000 loss : 0.247284014671166\n",
            "epoch 12000 loss : 0.245216129244354\n",
            "epoch 13000 loss : 0.238492164982355\n",
            "epoch 14000 loss : 0.212659298421315\n",
            "epoch 15000 loss : 0.180965915860768\n",
            "epoch 16000 loss : 0.081757912051436\n",
            "epoch 17000 loss : 0.056712570068153\n",
            "epoch 18000 loss : 0.041566665459305\n",
            "epoch 19000 loss : 0.030207065258412\n",
            "epoch 20000 loss : 0.021646953642073\n",
            "epoch 21000 loss : 0.015680901805623\n",
            "epoch 22000 loss : 0.011636363109335\n",
            "epoch 23000 loss : 0.008883431149947\n",
            "epoch 24000 loss : 0.006974172879231\n",
            "epoch 25000 loss : 0.005616722872541\n",
            "epoch 26000 loss : 0.004625919566003\n",
            "epoch 27000 loss : 0.003884206195579\n",
            "epoch 28000 loss : 0.003315876890075\n",
            "epoch 29000 loss : 0.002871172923850\n",
            "epoch 30000 loss : 0.002516642213582\n",
            "epoch 31000 loss : 0.002229278418058\n",
            "epoch 32000 loss : 0.001992910037279\n",
            "epoch 33000 loss : 0.001795934955425\n",
            "epoch 34000 loss : 0.001629870288865\n",
            "epoch 35000 loss : 0.001488404975737\n",
            "epoch 36000 loss : 0.001366768351233\n",
            "epoch 37000 loss : 0.001261301228528\n",
            "epoch 38000 loss : 0.001169159258874\n",
            "epoch 39000 loss : 0.001088104296055\n",
            "epoch 40000 loss : 0.001016355336898\n",
            "epoch 41000 loss : 0.000952480459458\n",
            "epoch 42000 loss : 0.000895317411591\n",
            "epoch 43000 loss : 0.000843914511939\n",
            "epoch 44000 loss : 0.000797486147431\n",
            "epoch 45000 loss : 0.000755378893025\n",
            "epoch 46000 loss : 0.000717045453315\n",
            "epoch 47000 loss : 0.000682024427908\n",
            "epoch 48000 loss : 0.000649924458079\n",
            "epoch 49000 loss : 0.000620411701687\n",
            "\n",
            "Testing prediction:\n",
            " [[2.13092913e-04]\n",
            " [9.97257088e-01]\n",
            " [1.39618715e-03]\n",
            " [9.96421236e-01]\n",
            " [1.10317206e-02]\n",
            " [9.94871672e-01]\n",
            " [3.80003446e-02]\n",
            " [9.90961877e-01]\n",
            " [4.73728616e-02]\n",
            " [9.29761187e-01]\n",
            " [3.23333977e-02]\n",
            " [1.84713863e-02]\n",
            " [9.56668613e-01]\n",
            " [1.14386320e-02]\n",
            " [9.99996227e-01]\n",
            " [8.45807439e-03]\n",
            " [9.99997326e-01]\n",
            " [7.51310759e-03]\n",
            " [9.99997302e-01]\n",
            " [7.80711078e-03]\n",
            " [9.99996925e-01]]\n",
            "\n",
            "Accuracy : 0.8571428571428571\n"
          ],
          "name": "stdout"
        },
        {
          "output_type": "display_data",
          "data": {
            "image/png": "[encoded data removed]",
            "text/plain": [
              "<Figure size 864x360 with 2 Axes>"
            ]
          },
          "metadata": {
            "tags": [],
            "needs_background": "light"
          }
        },
        {
          "output_type": "display_data",
          "data": {
            "image/png": "[encoded data removed]",
            "text/plain": [
              "<Figure size 432x288 with 1 Axes>"
            ]
          },
          "metadata": {
            "tags": [],
            "needs_background": "light"
          }
        }
      ]
    },
    {
      "cell_type": "markdown",
      "metadata": {
        "id": "R5UffZTYJs-3"
      },
      "source": [
        "### Without activation functions"
      ]
    },
    {
      "cell_type": "markdown",
      "metadata": {
        "id": "qNTYtFsgJ-ED"
      },
      "source": [
        "### 1. Linear dataset"
      ]
    },
    {
      "cell_type": "code",
      "metadata": {
        "colab": {
          "base_uri": "https://localhost:8080/",
          "height": 1000
        },
        "id": "3WUK_pTiJ4Oe",
        "outputId": "77e11d79-0157-4919-8814-ef7879c9fe50"
      },
      "source": [
        "# Random weights initialization\n",
        "w1 = np.random.uniform(size=(input_Neurons, hid1_Neurons))\n",
        "w2 = np.random.uniform(size=(hid1_Neurons, hid2_Neurons))\n",
        "w3 = np.random.uniform(size=(hid2_Neurons, output_Neurons))\n",
        "\n",
        "# Define epochs and learning rate\n",
        "epochs = 50000\n",
        "lr = 0.0001\n",
        "\n",
        "x, t = generate_linear(n=100)\n",
        "train_withot_act(epochs, lr, x, t, w1, w2, w3)"
      ],
      "execution_count": 43,
      "outputs": [
        {
          "output_type": "stream",
          "text": [
            "epoch     0 loss : 0.465897909092273\n",
            "epoch  1000 loss : 0.223315771041682\n",
            "epoch  2000 loss : 0.193248530302423\n",
            "epoch  3000 loss : 0.166775087019089\n",
            "epoch  4000 loss : 0.145332823015733\n",
            "epoch  5000 loss : 0.129455736399445\n",
            "epoch  6000 loss : 0.118581059694929\n",
            "epoch  7000 loss : 0.111530368427587\n",
            "epoch  8000 loss : 0.107083719961734\n",
            "epoch  9000 loss : 0.104292278326300\n",
            "epoch 10000 loss : 0.102522227201262\n",
            "epoch 11000 loss : 0.101381126245402\n",
            "epoch 12000 loss : 0.100632994933202\n",
            "epoch 13000 loss : 0.100136179479109\n",
            "epoch 14000 loss : 0.099804471629910\n",
            "epoch 15000 loss : 0.099584244600409\n",
            "epoch 16000 loss : 0.099441270087146\n",
            "epoch 17000 loss : 0.099353103925539\n",
            "epoch 18000 loss : 0.099304630787814\n",
            "epoch 19000 loss : 0.099285407926029\n",
            "epoch 20000 loss : 0.099288046935906\n",
            "epoch 21000 loss : 0.099307205205205\n",
            "epoch 22000 loss : 0.099338942729300\n",
            "epoch 23000 loss : 0.099380302524917\n",
            "epoch 24000 loss : 0.099429030800848\n",
            "epoch 25000 loss : 0.099483386318973\n",
            "epoch 26000 loss : 0.099542007843029\n",
            "epoch 27000 loss : 0.099603820172860\n",
            "epoch 28000 loss : 0.099667966304915\n",
            "epoch 29000 loss : 0.099733757614081\n",
            "epoch 30000 loss : 0.099800636691449\n",
            "epoch 31000 loss : 0.099868149225412\n",
            "epoch 32000 loss : 0.099935922453228\n",
            "epoch 33000 loss : 0.100003648462886\n",
            "epoch 34000 loss : 0.100071071129739\n",
            "epoch 35000 loss : 0.100137975815727\n",
            "epoch 36000 loss : 0.100204181195911\n",
            "epoch 37000 loss : 0.100269532742935\n",
            "epoch 38000 loss : 0.100333897517702\n",
            "epoch 39000 loss : 0.100397159999279\n",
            "epoch 40000 loss : 0.100459218748771\n",
            "epoch 41000 loss : 0.100519983747583\n",
            "epoch 42000 loss : 0.100579374284563\n",
            "epoch 43000 loss : 0.100637317292404\n",
            "epoch 44000 loss : 0.100693746053412\n",
            "epoch 45000 loss : 0.100748599210025\n",
            "epoch 46000 loss : 0.100801820027362\n",
            "epoch 47000 loss : 0.100853355864376\n",
            "epoch 48000 loss : 0.100903157817548\n",
            "epoch 49000 loss : 0.100951180506830\n",
            "\n",
            "Testing prediction:\n",
            " [[ 0.98286819]\n",
            " [ 0.86946254]\n",
            " [-0.09622707]\n",
            " [ 1.2164943 ]\n",
            " [ 0.49550056]\n",
            " [ 0.10054037]\n",
            " [-0.03444094]\n",
            " [-0.00700798]\n",
            " [-0.28722901]\n",
            " [ 0.86339678]\n",
            " [ 0.30200796]\n",
            " [ 0.07947004]\n",
            " [ 0.28206316]\n",
            " [ 1.13960159]\n",
            " [ 1.04673305]\n",
            " [ 0.90746311]\n",
            " [ 0.17077241]\n",
            " [ 0.27033865]\n",
            " [ 0.03046019]\n",
            " [ 1.09579838]\n",
            " [ 0.39415062]\n",
            " [ 0.37052497]\n",
            " [ 0.92522371]\n",
            " [ 0.55198843]\n",
            " [ 0.54913567]\n",
            " [ 0.3848538 ]\n",
            " [ 0.18390609]\n",
            " [ 0.25904325]\n",
            " [ 0.89416204]\n",
            " [ 1.08878243]\n",
            " [-0.14509163]\n",
            " [ 0.78953633]\n",
            " [ 0.24004721]\n",
            " [ 0.61431846]\n",
            " [ 0.01631622]\n",
            " [ 0.15609201]\n",
            " [ 0.25604061]\n",
            " [ 0.23347151]\n",
            " [ 0.40851282]\n",
            " [-0.01172781]\n",
            " [ 0.43623253]\n",
            " [ 0.96803077]\n",
            " [ 0.61309212]\n",
            " [ 0.77974719]\n",
            " [ 0.66212689]\n",
            " [ 0.29049817]\n",
            " [ 0.65286875]\n",
            " [ 0.62657036]\n",
            " [ 0.37004506]\n",
            " [ 0.93612326]\n",
            " [ 1.17952096]\n",
            " [ 0.36911259]\n",
            " [ 0.80291104]\n",
            " [ 1.0467672 ]\n",
            " [ 0.72292918]\n",
            " [-0.01929669]\n",
            " [ 0.16650362]\n",
            " [-0.15127804]\n",
            " [-0.00750484]\n",
            " [ 0.48798989]\n",
            " [-0.0103148 ]\n",
            " [ 0.19415792]\n",
            " [ 0.15217307]\n",
            " [ 0.92268343]\n",
            " [ 0.76732133]\n",
            " [ 0.002553  ]\n",
            " [-0.20726288]\n",
            " [ 0.46574186]\n",
            " [ 0.24631645]\n",
            " [ 1.24322104]\n",
            " [-0.13020859]\n",
            " [ 1.00056514]\n",
            " [ 0.70970217]\n",
            " [ 0.68224587]\n",
            " [ 0.88346566]\n",
            " [ 0.9313137 ]\n",
            " [ 0.52036392]\n",
            " [ 0.59942108]\n",
            " [ 0.35570818]\n",
            " [-0.00397519]\n",
            " [ 0.47846245]\n",
            " [-0.27040364]\n",
            " [ 0.84286781]\n",
            " [ 0.93467039]\n",
            " [-0.20062408]\n",
            " [ 1.10381933]\n",
            " [ 0.84996832]\n",
            " [ 0.35482283]\n",
            " [ 0.65010629]\n",
            " [ 0.87822139]\n",
            " [ 0.71769302]\n",
            " [ 0.95157314]\n",
            " [ 0.1412869 ]\n",
            " [ 0.81470577]\n",
            " [ 0.18395369]\n",
            " [ 0.81763489]\n",
            " [ 0.00282191]\n",
            " [ 0.44071572]\n",
            " [ 0.96628969]\n",
            " [-0.08809891]]\n",
            "\n",
            "Accuracy : 0.62\n"
          ],
          "name": "stdout"
        },
        {
          "output_type": "display_data",
          "data": {
            "image/png": "[encoded data removed]",
            "text/plain": [
              "<Figure size 864x360 with 2 Axes>"
            ]
          },
          "metadata": {
            "tags": [],
            "needs_background": "light"
          }
        },
        {
          "output_type": "display_data",
          "data": {
            "image/png": "[encoded data removed]",
            "text/plain": [
              "<Figure size 432x288 with 1 Axes>"
            ]
          },
          "metadata": {
            "tags": [],
            "needs_background": "light"
          }
        }
      ]
    },
    {
      "cell_type": "markdown",
      "metadata": {
        "id": "ags5vDgsKWdc"
      },
      "source": [
        "### 2. XOR dataset"
      ]
    },
    {
      "cell_type": "code",
      "metadata": {
        "colab": {
          "base_uri": "https://localhost:8080/",
          "height": 1000
        },
        "id": "fadwOz1fKQR8",
        "outputId": "13973e1f-ca32-4d6e-9a00-731574452656"
      },
      "source": [
        "# Random weights initialization\n",
        "w1 = np.random.uniform(size=(input_Neurons, hid1_Neurons))\n",
        "w2 = np.random.uniform(size=(hid1_Neurons, hid2_Neurons))\n",
        "w3 = np.random.uniform(size=(hid2_Neurons, output_Neurons))\n",
        "\n",
        "# Define epochs and learning rate\n",
        "epochs = 50000\n",
        "lr = 0.0001\n",
        "\n",
        "x, t = generate_XOR_easy()\n",
        "train_withot_act(epochs, lr, x, t, w1, w2, w3)"
      ],
      "execution_count": 42,
      "outputs": [
        {
          "output_type": "stream",
          "text": [
            "epoch     0 loss : 11.845726098555126\n",
            "epoch  1000 loss : 0.303746494361634\n",
            "epoch  2000 loss : 0.305348256775117\n",
            "epoch  3000 loss : 0.305282798784271\n",
            "epoch  4000 loss : 0.305161330175377\n",
            "epoch  5000 loss : 0.305045317800965\n",
            "epoch  6000 loss : 0.304938050297890\n",
            "epoch  7000 loss : 0.304840273665585\n",
            "epoch  8000 loss : 0.304752506790210\n",
            "epoch  9000 loss : 0.304675141861567\n",
            "epoch 10000 loss : 0.304608448426518\n",
            "epoch 11000 loss : 0.304552579102193\n",
            "epoch 12000 loss : 0.304507580736060\n",
            "epoch 13000 loss : 0.304473409528038\n",
            "epoch 14000 loss : 0.304449948313910\n",
            "epoch 15000 loss : 0.304437024424353\n",
            "epoch 16000 loss : 0.304434426898695\n",
            "epoch 17000 loss : 0.304441922227471\n",
            "epoch 18000 loss : 0.304459268156184\n",
            "epoch 19000 loss : 0.304486225371456\n",
            "epoch 20000 loss : 0.304522567101055\n",
            "epoch 21000 loss : 0.304568086796728\n",
            "epoch 22000 loss : 0.304622604146386\n",
            "epoch 23000 loss : 0.304685969694935\n",
            "epoch 24000 loss : 0.304758068355056\n",
            "epoch 25000 loss : 0.304838822072184\n",
            "epoch 26000 loss : 0.304928191880671\n",
            "epoch 27000 loss : 0.305026179556932\n",
            "epoch 28000 loss : 0.305132829044302\n",
            "epoch 29000 loss : 0.305248227795835\n",
            "epoch 30000 loss : 0.305372508156540\n",
            "epoch 31000 loss : 0.305505848886121\n",
            "epoch 32000 loss : 0.305648476907052\n",
            "epoch 33000 loss : 0.305800669350547\n",
            "epoch 34000 loss : 0.305962755964267\n",
            "epoch 35000 loss : 0.306135121939902\n",
            "epoch 36000 loss : 0.306318211215783\n",
            "epoch 37000 loss : 0.306512530308865\n",
            "epoch 38000 loss : 0.306718652731611\n",
            "epoch 39000 loss : 0.306937224052057\n",
            "epoch 40000 loss : 0.307168967659596\n",
            "epoch 41000 loss : 0.307414691304473\n",
            "epoch 42000 loss : 0.307675294485590\n",
            "epoch 43000 loss : 0.307951776768797\n",
            "epoch 44000 loss : 0.308245247126411\n",
            "epoch 45000 loss : 0.308556934398009\n",
            "epoch 46000 loss : 0.308888198982678\n",
            "epoch 47000 loss : 0.309240545883681\n",
            "epoch 48000 loss : 0.309615639237784\n",
            "epoch 49000 loss : 0.310015318473273\n",
            "\n",
            "Testing prediction:\n",
            " [[0.        ]\n",
            " [0.47948423]\n",
            " [0.05728582]\n",
            " [0.4408732 ]\n",
            " [0.11457164]\n",
            " [0.40226217]\n",
            " [0.17185745]\n",
            " [0.36365114]\n",
            " [0.22914327]\n",
            " [0.32504012]\n",
            " [0.28642909]\n",
            " [0.34371491]\n",
            " [0.24781806]\n",
            " [0.40100073]\n",
            " [0.20920704]\n",
            " [0.45828654]\n",
            " [0.17059601]\n",
            " [0.51557236]\n",
            " [0.13198498]\n",
            " [0.57285818]\n",
            " [0.09337395]]\n",
            "\n",
            "Accuracy : 0.5238095238095238\n"
          ],
          "name": "stdout"
        },
        {
          "output_type": "display_data",
          "data": {
            "image/png": "[encoded data removed]",
            "text/plain": [
              "<Figure size 864x360 with 2 Axes>"
            ]
          },
          "metadata": {
            "tags": [],
            "needs_background": "light"
          }
        },
        {
          "output_type": "display_data",
          "data": {
            "image/png": "[encoded data removed]",
            "text/plain": [
              "<Figure size 432x288 with 1 Axes>"
            ]
          },
          "metadata": {
            "tags": [],
            "needs_background": "light"
          }
        }
      ]
    }
  ]
}