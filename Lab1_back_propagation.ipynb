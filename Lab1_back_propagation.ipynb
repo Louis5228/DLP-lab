{
  "nbformat": 4,
  "nbformat_minor": 0,
  "metadata": {
    "colab": {
      "name": "Lab1 : back-propagation.ipynb",
      "provenance": [],
      "authorship_tag": "ABX9TyM/pf4NQmueng5OhRxulrqQ",
      "include_colab_link": true
    },
    "kernelspec": {
      "name": "python3",
      "display_name": "Python 3"
    },
    "language_info": {
      "name": "python"
    }
  },
  "cells": [
    {
      "cell_type": "markdown",
      "metadata": {
        "id": "view-in-github",
        "colab_type": "text"
      },
      "source": [
        "<a href=\"https://colab.research.google.com/github/Louis5228/DLP-lab/blob/main/Lab1_back_propagation.ipynb\" target=\"_parent\"><img src=\"https://colab.research.google.com/assets/colab-badge.svg\" alt=\"Open In Colab\"/></a>"
      ]
    },
    {
      "cell_type": "code",
      "metadata": {
        "id": "mHmWlLhDNr9N"
      },
      "source": [
        "import numpy as np\n",
        "import matplotlib.pyplot as plt"
      ],
      "execution_count": 3,
      "outputs": []
    },
    {
      "cell_type": "code",
      "metadata": {
        "id": "jKZtjROzOFvN"
      },
      "source": [
        "def sigmoid(x):\n",
        "  return 1.0 / (1.0 + np.exp(-x))\n",
        "\n",
        "def derivative_sigmoid(x):\n",
        "  return np.multiply(x, 1.0 - x)\n",
        "\n",
        "def generate_linear(n = 100):\n",
        "  pts = np.random.uniform(0, 1, (n, 2))\n",
        "  inputs = []\n",
        "  labels = []\n",
        "  for pt in pts:\n",
        "    inputs.append([pt[0], pt[1]])\n",
        "    distance = (pt[0] - pt[1]) / 1.414\n",
        "    if pt[0] > pt[1]:\n",
        "      labels.append(0)\n",
        "    else:\n",
        "      labels.append(1)\n",
        "  return np.array(inputs), np.array(labels).reshape(n, 1)\n",
        "\n",
        "def generate_XOR_easy():\n",
        "  inputs = []\n",
        "  labels = []\n",
        "  for i in range(11):\n",
        "    inputs.append([0.1*i, 0.1*i])\n",
        "    labels.append(0)\n",
        "\n",
        "    if 0.1*i == 0.5:\n",
        "      continue\n",
        "    \n",
        "    inputs.append([0.1*i, 1 - 0.1*i])\n",
        "    labels.append(1)\n",
        "\n",
        "  return np.array(inputs), np.array(labels).reshape(21, 1)\n",
        "\n",
        "def show_result(x, y, pred_y):\n",
        "  plt.subplot(121)\n",
        "  plt.title(\"Ground truth\", fontsize=18)\n",
        "  for i in range(x.shape[0]):\n",
        "    if y[i] == 0:\n",
        "      plt.plot(x[i][0], x[i][1], 'ro')\n",
        "    else:\n",
        "      plt.plot(x[i][0], x[i][1], 'bo')\n",
        "  \n",
        "  plt.subplot(122)\n",
        "  plt.title(\"Predict result\", fontsize=18)\n",
        "  for i in range(x.shape[0]):\n",
        "    if pred_y[i] < 0.5:\n",
        "      plt.plot(x[i][0], x[i][1], 'ro')\n",
        "    else:\n",
        "      plt.plot(x[i][0], x[i][1], 'bo')\n",
        "  \n",
        "  plt.show()\n",
        "\n",
        "def MSE(y_pred, t):\n",
        "  return np.mean((y_pred - t)**2)\n",
        "\n",
        "def train(epochs, lr, x, t, w1, w2, w3):\n",
        "  for epoch in range(epochs):\n",
        "    # Forward_propagation\n",
        "    z1 = sigmoid(x.dot(w1)) #n*4\n",
        "    z2 = sigmoid(z1.dot(w2)) #n*4\n",
        "    y_pred = sigmoid(z2.dot(w3)) #n*1\n",
        "\n",
        "    loss = MSE(y_pred, t)\n",
        "    if epoch % 1000 == 0:\n",
        "      print(\"epoch {:5d} loss : {:.15f}\".format(epoch, loss))\n",
        "\n",
        "    # Back_propagation\n",
        "    loss_grad = t - y_pred #n*1\n",
        "    d_predict_output = loss_grad * derivative_sigmoid(y_pred) #n*1\n",
        "    d_hid2_output = d_predict_output.dot(w3.T) * derivative_sigmoid(z2) #n*4\n",
        "    d_hid1_output = d_hid2_output.dot(w2) * derivative_sigmoid(z1) #n*4\n",
        "\n",
        "    w3 += lr * z2.T.dot(d_predict_output) #4*1\n",
        "    w2 += lr * z1.T.dot(d_hid2_output) # 4*4\n",
        "    w1 += lr * x.T.dot(d_hid1_output) #2*4\n",
        "\n",
        "  show_result(x, t, y_pred)"
      ],
      "execution_count": 28,
      "outputs": []
    },
    {
      "cell_type": "code",
      "metadata": {
        "id": "G5lOWh22UrP5"
      },
      "source": [
        "# Define number of neurons for each layer\n",
        "input_Neurons = 2\n",
        "hid1_Neurons = 4\n",
        "hid2_Neurons = 4\n",
        "output_Neurons = 1\n",
        "\n",
        "# Random weights initialization\n",
        "w1 = np.random.uniform(size=(input_Neurons, hid1_Neurons))\n",
        "w2 = np.random.uniform(size=(hid1_Neurons, hid2_Neurons))\n",
        "w3 = np.random.uniform(size=(hid2_Neurons, output_Neurons))"
      ],
      "execution_count": 29,
      "outputs": []
    },
    {
      "cell_type": "markdown",
      "metadata": {
        "id": "3xMzi2KuURwA"
      },
      "source": [
        "## 1. Linear dataset"
      ]
    },
    {
      "cell_type": "code",
      "metadata": {
        "colab": {
          "base_uri": "https://localhost:8080/",
          "height": 370
        },
        "id": "YHRoCqQYR0LP",
        "outputId": "25dda9b9-34ec-4156-f424-9d16eb619808"
      },
      "source": [
        "# Define epochs and learning rate\n",
        "epochs = 5000\n",
        "lr = 0.01\n",
        "\n",
        "x, t = generate_linear(n=100)\n",
        "train(epochs, lr, x, t, w1, w2, w3)"
      ],
      "execution_count": 30,
      "outputs": [
        {
          "output_type": "stream",
          "text": [
            "epoch     0 loss : 0.419608183990557\n",
            "epoch  1000 loss : 0.245704849804005\n",
            "epoch  2000 loss : 0.244848220787364\n",
            "epoch  3000 loss : 0.239842933124948\n",
            "epoch  4000 loss : 0.045684694143680\n"
          ],
          "name": "stdout"
        },
        {
          "output_type": "display_data",
          "data": {
            "image/png": "[encoded data removed]",
            "text/plain": [
              "<Figure size 432x288 with 2 Axes>"
            ]
          },
          "metadata": {
            "tags": [],
            "needs_background": "light"
          }
        }
      ]
    },
    {
      "cell_type": "markdown",
      "metadata": {
        "id": "OvLRBg4q426U"
      },
      "source": [
        "## 2. XOR dataset"
      ]
    },
    {
      "cell_type": "code",
      "metadata": {
        "colab": {
          "base_uri": "https://localhost:8080/",
          "height": 1000
        },
        "id": "ee7ZmIY642Xd",
        "outputId": "e0149e1b-3f01-4e30-f2d3-0f2f338e9bd1"
      },
      "source": [
        "# Define epochs and learning rate\n",
        "epochs = 50000\n",
        "lr = 0.01\n",
        "\n",
        "x, t = generate_XOR_easy()\n",
        "train(epochs, lr, x, t, w1, w2, w3)"
      ],
      "execution_count": 31,
      "outputs": [
        {
          "output_type": "stream",
          "text": [
            "epoch     0 loss : 0.328551628160725\n",
            "epoch  1000 loss : 0.241237821798727\n",
            "epoch  2000 loss : 0.240570716763349\n",
            "epoch  3000 loss : 0.240005853039399\n",
            "epoch  4000 loss : 0.239490616861513\n",
            "epoch  5000 loss : 0.238968461134538\n",
            "epoch  6000 loss : 0.238347029567372\n",
            "epoch  7000 loss : 0.237398361984858\n",
            "epoch  8000 loss : 0.235202782674691\n",
            "epoch  9000 loss : 0.222337969359074\n",
            "epoch 10000 loss : 0.185486531406684\n",
            "epoch 11000 loss : 0.173389570187792\n",
            "epoch 12000 loss : 0.138139570487452\n",
            "epoch 13000 loss : 0.077436205622518\n",
            "epoch 14000 loss : 0.045446589536170\n",
            "epoch 15000 loss : 0.029439866337046\n",
            "epoch 16000 loss : 0.020021598846614\n",
            "epoch 17000 loss : 0.014207064680451\n",
            "epoch 18000 loss : 0.010518992630739\n",
            "epoch 19000 loss : 0.008097623522425\n",
            "epoch 20000 loss : 0.006445644503752\n",
            "epoch 21000 loss : 0.005275767749586\n",
            "epoch 22000 loss : 0.004418859017902\n",
            "epoch 23000 loss : 0.003772339226349\n",
            "epoch 24000 loss : 0.003271897808909\n",
            "epoch 25000 loss : 0.002875874323297\n",
            "epoch 26000 loss : 0.002556441043429\n",
            "epoch 27000 loss : 0.002294482463442\n",
            "epoch 28000 loss : 0.002076531876747\n",
            "epoch 29000 loss : 0.001892884483286\n",
            "epoch 30000 loss : 0.001736402744028\n",
            "epoch 31000 loss : 0.001601740438058\n",
            "epoch 32000 loss : 0.001484826677394\n",
            "epoch 33000 loss : 0.001382515307767\n",
            "epoch 34000 loss : 0.001292341934975\n",
            "epoch 35000 loss : 0.001212352466619\n",
            "epoch 36000 loss : 0.001140980098173\n",
            "epoch 37000 loss : 0.001076955702707\n",
            "epoch 38000 loss : 0.001019241633577\n",
            "epoch 39000 loss : 0.000966982187675\n",
            "epoch 40000 loss : 0.000919466091450\n",
            "epoch 41000 loss : 0.000876097776246\n",
            "epoch 42000 loss : 0.000836375157120\n",
            "epoch 43000 loss : 0.000799872278030\n",
            "epoch 44000 loss : 0.000766225636736\n",
            "epoch 45000 loss : 0.000735123319411\n",
            "epoch 46000 loss : 0.000706296300397\n",
            "epoch 47000 loss : 0.000679511424757\n",
            "epoch 48000 loss : 0.000654565709331\n",
            "epoch 49000 loss : 0.000631281684687\n"
          ],
          "name": "stdout"
        },
        {
          "output_type": "display_data",
          "data": {
            "image/png": "[encoded data removed]",
            "text/plain": [
              "<Figure size 432x288 with 2 Axes>"
            ]
          },
          "metadata": {
            "tags": [],
            "needs_background": "light"
          }
        }
      ]
    }
  ]
}