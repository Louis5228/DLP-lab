{
  "nbformat": 4,
  "nbformat_minor": 0,
  "metadata": {
    "colab": {
      "name": "Lab1 : back-propagation.ipynb",
      "provenance": [],
      "authorship_tag": "ABX9TyOQvlLuggiPDL5wE0FY1A47",
      "include_colab_link": true
    },
    "kernelspec": {
      "name": "python3",
      "display_name": "Python 3"
    },
    "language_info": {
      "name": "python"
    }
  },
  "cells": [
    {
      "cell_type": "markdown",
      "metadata": {
        "id": "view-in-github",
        "colab_type": "text"
      },
      "source": [
        "<a href=\"https://colab.research.google.com/github/Louis5228/DLP-lab/blob/main/Lab1_back_propagation.ipynb\" target=\"_parent\"><img src=\"https://colab.research.google.com/assets/colab-badge.svg\" alt=\"Open In Colab\"/></a>"
      ]
    },
    {
      "cell_type": "code",
      "metadata": {
        "id": "mHmWlLhDNr9N"
      },
      "source": [
        "import numpy as np\n",
        "import matplotlib.pyplot as plt"
      ],
      "execution_count": 28,
      "outputs": []
    },
    {
      "cell_type": "code",
      "metadata": {
        "id": "jKZtjROzOFvN"
      },
      "source": [
        "def sigmoid(x):\n",
        "  return 1.0 / (1.0 + np.exp(-x))\n",
        "\n",
        "def derivative_sigmoid(x):\n",
        "  return np.multiply(x, 1.0 - x)\n",
        "\n",
        "def generate_linear(n = 100):\n",
        "  pts = np.random.uniform(0, 1, (n, 2))\n",
        "  inputs = []\n",
        "  labels = []\n",
        "  for pt in pts:\n",
        "    inputs.append([pt[0], pt[1]])\n",
        "    distance = (pt[0] - pt[1]) / 1.414\n",
        "    if pt[0] > pt[1]:\n",
        "      labels.append(0)\n",
        "    else:\n",
        "      labels.append(1)\n",
        "  return np.array(inputs), np.array(labels).reshape(n, 1)\n",
        "\n",
        "def generate_XOR_easy():\n",
        "  inputs = []\n",
        "  labels = []\n",
        "  for i in range(11):\n",
        "    inputs.append([0.1*i, 0.1*i])\n",
        "    labels.append(0)\n",
        "\n",
        "    if 0.1*i == 0.5:\n",
        "      continue\n",
        "    \n",
        "    inputs.append([0.1*i, 1 - 0.1*i])\n",
        "    labels.append(1)\n",
        "\n",
        "  return np.array(inputs), np.array(labels).reshape(21, 1)\n",
        "\n",
        "def show_result(x, y, pred_y):\n",
        "  plt.figure(figsize=(12, 5))\n",
        "  plt.subplot(121)\n",
        "  plt.title(\"Ground truth\", fontsize=18)\n",
        "  for i in range(x.shape[0]):\n",
        "    if y[i] == 0:\n",
        "      plt.plot(x[i][0], x[i][1], 'ro')\n",
        "    else:\n",
        "      plt.plot(x[i][0], x[i][1], 'bo')\n",
        "  \n",
        "  plt.subplot(122)\n",
        "  plt.title(\"Predict result\", fontsize=18)\n",
        "  for i in range(x.shape[0]):\n",
        "    if pred_y[i] < 0.5:\n",
        "      plt.plot(x[i][0], x[i][1], 'ro')\n",
        "    else:\n",
        "      plt.plot(x[i][0], x[i][1], 'bo')\n",
        "  \n",
        "  plt.show()\n",
        "\n",
        "def plot_learning_curve(epochs, loss):\n",
        "  plt.title('Learning curve', fontsize = 20)\n",
        "  plt.xlabel('epochs', fontsize = 15)\n",
        "  plt.ylabel('Loss', fontsize = 15)\n",
        "  plt.plot(np.arange(1, epochs+1), loss, color='red')\n",
        "  plt.grid(True)\n",
        "  plt.show()\n",
        "\n",
        "def MSE(y_pred, t):\n",
        "  return np.mean((y_pred - t)**2)\n",
        "\n",
        "def train(epochs, lr, x, t, w1, w2, w3):\n",
        "  err_l = []\n",
        "  for epoch in range(epochs):\n",
        "    # Forward propagation\n",
        "    z1 = sigmoid(x.dot(w1)) #n*4\n",
        "    z2 = sigmoid(z1.dot(w2)) #n*4\n",
        "    y_pred = sigmoid(z2.dot(w3)) #n*1\n",
        "    \n",
        "    err = MSE(y_pred, t)\n",
        "    err_l.append(err)\n",
        "    if epoch % 1000 == 0:\n",
        "      print(\"epoch {:5d} loss : {:.15f}\".format(epoch, err))\n",
        "\n",
        "    # Back propagation\n",
        "    err_grad = t - y_pred #n*1\n",
        "    d_predict_output = err_grad * derivative_sigmoid(y_pred) #n*1\n",
        "    d_hid2_output = d_predict_output.dot(w3.T) * derivative_sigmoid(z2) #n*4\n",
        "    d_hid1_output = d_hid2_output.dot(w2) * derivative_sigmoid(z1) #n*4\n",
        "\n",
        "    w3 += lr * z2.T.dot(d_predict_output) #4*1\n",
        "    w2 += lr * z1.T.dot(d_hid2_output) # 4*4\n",
        "    w1 += lr * x.T.dot(d_hid1_output) #2*4\n",
        "  \n",
        "  # Predict result\n",
        "  print(\"\\nTesting prediction:\\n\", y_pred)\n",
        "  # Accuracy\n",
        "  acc = np.count_nonzero((y_pred - t) < 0.02) / t.shape[0]\n",
        "  print(\"\\nAccuracy :\", acc)\n",
        "  show_result(x, t, y_pred)\n",
        "  plot_learning_curve(epochs, err_l)"
      ],
      "execution_count": 29,
      "outputs": []
    },
    {
      "cell_type": "code",
      "metadata": {
        "id": "G5lOWh22UrP5"
      },
      "source": [
        "# Define number of neurons for each layer\n",
        "input_Neurons = 2\n",
        "hid1_Neurons = 4\n",
        "hid2_Neurons = 4\n",
        "output_Neurons = 1"
      ],
      "execution_count": 30,
      "outputs": []
    },
    {
      "cell_type": "markdown",
      "metadata": {
        "id": "3xMzi2KuURwA"
      },
      "source": [
        "## 1. Linear dataset"
      ]
    },
    {
      "cell_type": "code",
      "metadata": {
        "colab": {
          "base_uri": "https://localhost:8080/",
          "height": 1000
        },
        "id": "YHRoCqQYR0LP",
        "outputId": "aacb5881-bc24-499e-9ef2-70c4e700cb48"
      },
      "source": [
        "# Random weights initialization\n",
        "w1 = np.random.uniform(size=(input_Neurons, hid1_Neurons))\n",
        "w2 = np.random.uniform(size=(hid1_Neurons, hid2_Neurons))\n",
        "w3 = np.random.uniform(size=(hid2_Neurons, output_Neurons))\n",
        "\n",
        "# Define epochs and learning rate\n",
        "epochs = 50000\n",
        "lr = 0.01\n",
        "\n",
        "x, t = generate_linear(n=100)\n",
        "train(epochs, lr, x, t, w1, w2, w3)"
      ],
      "execution_count": 31,
      "outputs": [
        {
          "output_type": "stream",
          "text": [
            "epoch     0 loss : 0.383521882286944\n",
            "epoch  1000 loss : 0.232338295115257\n",
            "epoch  2000 loss : 0.184150603299952\n",
            "epoch  3000 loss : 0.029940901080740\n",
            "epoch  4000 loss : 0.017510144374581\n",
            "epoch  5000 loss : 0.013159772096453\n",
            "epoch  6000 loss : 0.010590257486649\n",
            "epoch  7000 loss : 0.008723479626954\n",
            "epoch  8000 loss : 0.007271784766744\n",
            "epoch  9000 loss : 0.006123401879979\n",
            "epoch 10000 loss : 0.005209154763414\n",
            "epoch 11000 loss : 0.004476104692846\n",
            "epoch 12000 loss : 0.003882899368078\n",
            "epoch 13000 loss : 0.003397875281997\n",
            "epoch 14000 loss : 0.002997133438387\n",
            "epoch 15000 loss : 0.002662700170233\n",
            "epoch 16000 loss : 0.002381001532128\n",
            "epoch 17000 loss : 0.002141697762281\n",
            "epoch 18000 loss : 0.001936828361496\n",
            "epoch 19000 loss : 0.001760195332025\n",
            "epoch 20000 loss : 0.001606919484363\n",
            "epoch 21000 loss : 0.001473119670464\n",
            "epoch 22000 loss : 0.001355678771084\n",
            "epoch 23000 loss : 0.001252071077707\n",
            "epoch 24000 loss : 0.001160233463998\n",
            "epoch 25000 loss : 0.001078468118592\n",
            "epoch 26000 loss : 0.001005368291240\n",
            "epoch 27000 loss : 0.000939761019048\n",
            "epoch 28000 loss : 0.000880662526297\n",
            "epoch 29000 loss : 0.000827243187294\n",
            "epoch 30000 loss : 0.000778799778921\n",
            "epoch 31000 loss : 0.000734733342483\n",
            "epoch 32000 loss : 0.000694531399396\n",
            "epoch 33000 loss : 0.000657753573326\n",
            "epoch 34000 loss : 0.000624019897214\n",
            "epoch 35000 loss : 0.000593001250982\n",
            "epoch 36000 loss : 0.000564411500798\n",
            "epoch 37000 loss : 0.000538001005283\n",
            "epoch 38000 loss : 0.000513551225942\n",
            "epoch 39000 loss : 0.000490870234236\n",
            "epoch 40000 loss : 0.000469788950339\n",
            "epoch 41000 loss : 0.000450157981742\n",
            "epoch 42000 loss : 0.000431844955839\n",
            "epoch 43000 loss : 0.000414732260987\n",
            "epoch 44000 loss : 0.000398715126747\n",
            "epoch 45000 loss : 0.000383699986828\n",
            "epoch 46000 loss : 0.000369603078536\n",
            "epoch 47000 loss : 0.000356349240813\n",
            "epoch 48000 loss : 0.000343870879561\n",
            "epoch 49000 loss : 0.000332107074379\n",
            "\n",
            "Testing prediction:\n",
            " [[9.99996484e-01]\n",
            " [9.99994957e-01]\n",
            " [9.74067117e-06]\n",
            " [1.15748197e-02]\n",
            " [7.55782472e-03]\n",
            " [4.19710128e-06]\n",
            " [9.91590027e-01]\n",
            " [3.70220642e-06]\n",
            " [3.40904229e-06]\n",
            " [6.40141082e-06]\n",
            " [4.26537132e-02]\n",
            " [1.21470195e-05]\n",
            " [3.82656362e-06]\n",
            " [1.95801154e-05]\n",
            " [9.99997134e-01]\n",
            " [9.99997127e-01]\n",
            " [9.99996319e-01]\n",
            " [9.99996846e-01]\n",
            " [3.33000988e-06]\n",
            " [8.52095564e-06]\n",
            " [3.78136738e-06]\n",
            " [6.46859916e-06]\n",
            " [9.99994401e-01]\n",
            " [8.72844667e-06]\n",
            " [3.58090985e-06]\n",
            " [9.99987160e-01]\n",
            " [9.59673942e-01]\n",
            " [9.99992057e-01]\n",
            " [9.99996104e-01]\n",
            " [2.18770178e-05]\n",
            " [9.68526480e-01]\n",
            " [9.99996621e-01]\n",
            " [4.36643233e-06]\n",
            " [1.98504331e-03]\n",
            " [9.97947921e-04]\n",
            " [9.99994646e-01]\n",
            " [5.29377370e-06]\n",
            " [9.99996740e-01]\n",
            " [4.08081350e-06]\n",
            " [6.21970006e-06]\n",
            " [5.36987537e-06]\n",
            " [1.45024745e-05]\n",
            " [1.17726273e-01]\n",
            " [9.99996955e-01]\n",
            " [5.75413314e-06]\n",
            " [5.18604046e-06]\n",
            " [3.43347802e-06]\n",
            " [4.84951672e-06]\n",
            " [4.58691771e-06]\n",
            " [5.72819526e-06]\n",
            " [9.99983881e-01]\n",
            " [9.99997144e-01]\n",
            " [9.99997005e-01]\n",
            " [9.99995399e-01]\n",
            " [9.99988293e-01]\n",
            " [9.99987797e-01]\n",
            " [9.99996382e-01]\n",
            " [9.99993996e-01]\n",
            " [9.99982070e-01]\n",
            " [1.65614679e-02]\n",
            " [9.99997153e-01]\n",
            " [3.60037292e-06]\n",
            " [3.50316796e-06]\n",
            " [9.34431644e-01]\n",
            " [1.84618414e-05]\n",
            " [4.10594323e-06]\n",
            " [2.51491933e-05]\n",
            " [3.42147759e-06]\n",
            " [6.02436183e-06]\n",
            " [3.75414435e-06]\n",
            " [9.05387767e-01]\n",
            " [9.99992374e-01]\n",
            " [9.99996937e-01]\n",
            " [3.73524495e-06]\n",
            " [3.44550042e-06]\n",
            " [2.36478581e-05]\n",
            " [4.79095645e-06]\n",
            " [1.22092235e-05]\n",
            " [9.99996804e-01]\n",
            " [1.43031727e-05]\n",
            " [9.96253520e-01]\n",
            " [3.73277921e-06]\n",
            " [9.99996726e-01]\n",
            " [3.43038904e-06]\n",
            " [9.99997158e-01]\n",
            " [3.81394010e-06]\n",
            " [1.19212311e-05]\n",
            " [9.88432592e-06]\n",
            " [9.99996533e-01]\n",
            " [9.99996601e-01]\n",
            " [5.42270982e-06]\n",
            " [4.46467770e-05]\n",
            " [3.78123052e-06]\n",
            " [1.67976730e-05]\n",
            " [3.40846023e-06]\n",
            " [5.18648625e-06]\n",
            " [4.43054174e-06]\n",
            " [8.39712641e-06]\n",
            " [8.48786093e-06]\n",
            " [7.18493036e-06]]\n",
            "\n",
            "Accuracy : 0.98\n"
          ],
          "name": "stdout"
        },
        {
          "output_type": "display_data",
          "data": {
            "image/png": "[encoded data removed]",
            "text/plain": [
              "<Figure size 864x360 with 2 Axes>"
            ]
          },
          "metadata": {
            "tags": [],
            "needs_background": "light"
          }
        },
        {
          "output_type": "display_data",
          "data": {
            "image/png": "[encoded data removed]",
            "text/plain": [
              "<Figure size 432x288 with 1 Axes>"
            ]
          },
          "metadata": {
            "tags": [],
            "needs_background": "light"
          }
        }
      ]
    },
    {
      "cell_type": "markdown",
      "metadata": {
        "id": "OvLRBg4q426U"
      },
      "source": [
        "## 2. XOR dataset"
      ]
    },
    {
      "cell_type": "code",
      "metadata": {
        "colab": {
          "base_uri": "https://localhost:8080/",
          "height": 1000
        },
        "id": "ee7ZmIY642Xd",
        "outputId": "44d6b56d-a42e-4e26-d72c-f9387d6f0576"
      },
      "source": [
        "# Random weights initialization\n",
        "w1 = np.random.uniform(size=(input_Neurons, hid1_Neurons))\n",
        "w2 = np.random.uniform(size=(hid1_Neurons, hid2_Neurons))\n",
        "w3 = np.random.uniform(size=(hid2_Neurons, output_Neurons))\n",
        "\n",
        "# Define epochs and learning rate\n",
        "epochs = 50000\n",
        "lr = 0.05\n",
        "\n",
        "x, t = generate_XOR_easy()\n",
        "train(epochs, lr, x, t, w1, w2, w3)"
      ],
      "execution_count": 33,
      "outputs": [
        {
          "output_type": "stream",
          "text": [
            "epoch     0 loss : 0.407508640060338\n",
            "epoch  1000 loss : 0.249439715843531\n",
            "epoch  2000 loss : 0.249421073376786\n",
            "epoch  3000 loss : 0.249400921404908\n",
            "epoch  4000 loss : 0.249378098178887\n",
            "epoch  5000 loss : 0.249350971913657\n",
            "epoch  6000 loss : 0.249316669078693\n",
            "epoch  7000 loss : 0.249269174942631\n",
            "epoch  8000 loss : 0.249193678868640\n",
            "epoch  9000 loss : 0.249045205612083\n",
            "epoch 10000 loss : 0.248635212401745\n",
            "epoch 11000 loss : 0.246663713767889\n",
            "epoch 12000 loss : 0.233496974542446\n",
            "epoch 13000 loss : 0.161588103171700\n",
            "epoch 14000 loss : 0.069364535446235\n",
            "epoch 15000 loss : 0.042813329348166\n",
            "epoch 16000 loss : 0.028582177814472\n",
            "epoch 17000 loss : 0.018005056502422\n",
            "epoch 18000 loss : 0.010890002173648\n",
            "epoch 19000 loss : 0.006778579883588\n",
            "epoch 20000 loss : 0.004493839989203\n",
            "epoch 21000 loss : 0.003176106488765\n",
            "epoch 22000 loss : 0.002368876150185\n",
            "epoch 23000 loss : 0.001844098483960\n",
            "epoch 24000 loss : 0.001484850245630\n",
            "epoch 25000 loss : 0.001228053152481\n",
            "epoch 26000 loss : 0.001037787481826\n",
            "epoch 27000 loss : 0.000892546746993\n",
            "epoch 28000 loss : 0.000778868486712\n",
            "epoch 29000 loss : 0.000687991848708\n",
            "epoch 30000 loss : 0.000614019688977\n",
            "epoch 31000 loss : 0.000552863882604\n",
            "epoch 32000 loss : 0.000501616423776\n",
            "epoch 33000 loss : 0.000458161357636\n",
            "epoch 34000 loss : 0.000420927893298\n",
            "epoch 35000 loss : 0.000388728990270\n",
            "epoch 36000 loss : 0.000360653214330\n",
            "epoch 37000 loss : 0.000335990671732\n",
            "epoch 38000 loss : 0.000314181265810\n",
            "epoch 39000 loss : 0.000294777892106\n",
            "epoch 40000 loss : 0.000277419827349\n",
            "epoch 41000 loss : 0.000261813199409\n",
            "epoch 42000 loss : 0.000247716456652\n",
            "epoch 43000 loss : 0.000234929420225\n",
            "epoch 44000 loss : 0.000223284939729\n",
            "epoch 45000 loss : 0.000212642464761\n",
            "epoch 46000 loss : 0.000202883043073\n",
            "epoch 47000 loss : 0.000193905392719\n",
            "epoch 48000 loss : 0.000185622791016\n",
            "epoch 49000 loss : 0.000177960590628\n",
            "\n",
            "Testing prediction:\n",
            " [[9.41727530e-04]\n",
            " [9.99944767e-01]\n",
            " [3.51158059e-03]\n",
            " [9.99948145e-01]\n",
            " [1.09665522e-02]\n",
            " [9.99945050e-01]\n",
            " [2.19123640e-02]\n",
            " [9.99886612e-01]\n",
            " [2.55207219e-02]\n",
            " [9.70166226e-01]\n",
            " [1.85346477e-02]\n",
            " [9.76375336e-03]\n",
            " [9.68869183e-01]\n",
            " [4.44009815e-03]\n",
            " [9.99864100e-01]\n",
            " [2.01260273e-03]\n",
            " [9.99948230e-01]\n",
            " [9.91201675e-04]\n",
            " [9.99959502e-01]\n",
            " [5.48682851e-04]\n",
            " [9.99963286e-01]]\n",
            "\n",
            "Accuracy : 0.9047619047619048\n"
          ],
          "name": "stdout"
        },
        {
          "output_type": "display_data",
          "data": {
            "image/png": "[encoded data removed]",
            "text/plain": [
              "<Figure size 864x360 with 2 Axes>"
            ]
          },
          "metadata": {
            "tags": [],
            "needs_background": "light"
          }
        },
        {
          "output_type": "display_data",
          "data": {
            "image/png": "[encoded data removed]",
            "text/plain": [
              "<Figure size 432x288 with 1 Axes>"
            ]
          },
          "metadata": {
            "tags": [],
            "needs_background": "light"
          }
        }
      ]
    }
  ]
}