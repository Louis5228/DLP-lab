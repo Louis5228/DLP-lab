{
  "nbformat": 4,
  "nbformat_minor": 0,
  "metadata": {
    "colab": {
      "name": "Lab1 : back-propagation.ipynb",
      "provenance": [],
      "authorship_tag": "ABX9TyOo01vuZQvU9seziw5JKj2Y",
      "include_colab_link": true
    },
    "kernelspec": {
      "name": "python3",
      "display_name": "Python 3"
    },
    "language_info": {
      "name": "python"
    }
  },
  "cells": [
    {
      "cell_type": "markdown",
      "metadata": {
        "id": "view-in-github",
        "colab_type": "text"
      },
      "source": [
        "<a href=\"https://colab.research.google.com/github/Louis5228/DLP-lab/blob/main/Lab1_back_propagation.ipynb\" target=\"_parent\"><img src=\"https://colab.research.google.com/assets/colab-badge.svg\" alt=\"Open In Colab\"/></a>"
      ]
    },
    {
      "cell_type": "code",
      "metadata": {
        "id": "mHmWlLhDNr9N"
      },
      "source": [
        "import numpy as np\n",
        "import matplotlib.pyplot as plt"
      ],
      "execution_count": 3,
      "outputs": []
    },
    {
      "cell_type": "code",
      "metadata": {
        "id": "jKZtjROzOFvN"
      },
      "source": [
        "def sigmoid(x):\n",
        "  return 1.0 / (1.0 + np.exp(-x))\n",
        "\n",
        "def derivative_sigmoid(x):\n",
        "  return np.multiply(x, 1.0 - x)\n",
        "\n",
        "def generate_linear(n = 100):\n",
        "  pts = np.random.uniform(0, 1, (n, 2))\n",
        "  inputs = []\n",
        "  labels = []\n",
        "  for pt in pts:\n",
        "    inputs.append([pt[0], pt[1]])\n",
        "    distance = (pt[0] - pt[1]) / 1.414\n",
        "    if pt[0] > pt[1]:\n",
        "      labels.append(0)\n",
        "    else:\n",
        "      labels.append(1)\n",
        "  return np.array(inputs), np.array(labels).reshape(n, 1)\n",
        "\n",
        "def generate_XOR_easy():\n",
        "  inputs = []\n",
        "  labels = []\n",
        "  for i in range(11):\n",
        "    inputs.append([0.1*i, 0.1*i])\n",
        "    labels.append(0)\n",
        "\n",
        "    if 0.1*i == 0.5:\n",
        "      continue\n",
        "    \n",
        "    inputs.append([0.1*i, 1 - 0.1*i])\n",
        "    labels.append(1)\n",
        "\n",
        "  return np.array(inputs), np.array(labels).reshape(21, 1)\n",
        "\n",
        "def show_result(x, y, pred_y):\n",
        "  plt.subplot(121)\n",
        "  plt.title(\"Ground truth\", fontsize=18)\n",
        "  for i in range(x.shape[0]):\n",
        "    if y[i] == 0:\n",
        "      plt.plot(x[i][0], x[i][1], 'ro')\n",
        "    else:\n",
        "      plt.plot(x[i][0], x[i][1], 'bo')\n",
        "  \n",
        "  plt.subplot(122)\n",
        "  plt.title(\"Predict result\", fontsize=18)\n",
        "  for i in range(x.shape[0]):\n",
        "    if pred_y[i] < 0.5:\n",
        "      plt.plot(x[i][0], x[i][1], 'ro')\n",
        "    else:\n",
        "      plt.plot(x[i][0], x[i][1], 'bo')\n",
        "  \n",
        "  plt.show()\n",
        "\n",
        "def plot_learning_curve(epochs, loss):\n",
        "  plt.title('Learning curve', fontsize = 20)\n",
        "  plt.xlabel('epochs', fontsize = 15)\n",
        "  plt.ylabel('Loss', fontsize = 15)\n",
        "  plt.plot(np.arange(1, epochs+1), loss, color='red')\n",
        "  plt.grid(True)\n",
        "  plt.show()\n",
        "\n",
        "def MSE(y_pred, t):\n",
        "  return np.mean((y_pred - t)**2)\n",
        "\n",
        "def train(epochs, lr, x, t, w1, w2, w3):\n",
        "  err_l = []\n",
        "  for epoch in range(epochs):\n",
        "    # Forward_propagation\n",
        "    z1 = sigmoid(x.dot(w1)) #n*4\n",
        "    z2 = sigmoid(z1.dot(w2)) #n*4\n",
        "    y_pred = sigmoid(z2.dot(w3)) #n*1\n",
        "\n",
        "    err = MSE(y_pred, t)\n",
        "    err_l.append(err)\n",
        "    if epoch % 1000 == 0:\n",
        "      print(\"epoch {:5d} loss : {:.15f}\".format(epoch, err))\n",
        "\n",
        "    # Back_propagation\n",
        "    err_grad = t - y_pred #n*1\n",
        "    d_predict_output = err_grad * derivative_sigmoid(y_pred) #n*1\n",
        "    d_hid2_output = d_predict_output.dot(w3.T) * derivative_sigmoid(z2) #n*4\n",
        "    d_hid1_output = d_hid2_output.dot(w2) * derivative_sigmoid(z1) #n*4\n",
        "\n",
        "    w3 += lr * z2.T.dot(d_predict_output) #4*1\n",
        "    w2 += lr * z1.T.dot(d_hid2_output) # 4*4\n",
        "    w1 += lr * x.T.dot(d_hid1_output) #2*4\n",
        "\n",
        "  show_result(x, t, y_pred)\n",
        "  plot_learning_curve(epochs, err_l)"
      ],
      "execution_count": 42,
      "outputs": []
    },
    {
      "cell_type": "code",
      "metadata": {
        "id": "G5lOWh22UrP5"
      },
      "source": [
        "# Define number of neurons for each layer\n",
        "input_Neurons = 2\n",
        "hid1_Neurons = 4\n",
        "hid2_Neurons = 4\n",
        "output_Neurons = 1"
      ],
      "execution_count": 53,
      "outputs": []
    },
    {
      "cell_type": "markdown",
      "metadata": {
        "id": "3xMzi2KuURwA"
      },
      "source": [
        "## 1. Linear dataset"
      ]
    },
    {
      "cell_type": "code",
      "metadata": {
        "colab": {
          "base_uri": "https://localhost:8080/",
          "height": 1000
        },
        "id": "YHRoCqQYR0LP",
        "outputId": "629f6b6e-a737-47f5-b378-f4ca347b2c9d"
      },
      "source": [
        "# Random weights initialization\n",
        "w1 = np.random.uniform(size=(input_Neurons, hid1_Neurons))\n",
        "w2 = np.random.uniform(size=(hid1_Neurons, hid2_Neurons))\n",
        "w3 = np.random.uniform(size=(hid2_Neurons, output_Neurons))\n",
        "\n",
        "# Define epochs and learning rate\n",
        "epochs = 50000\n",
        "lr = 0.01\n",
        "\n",
        "x, t = generate_linear(n=100)\n",
        "train(epochs, lr, x, t, w1, w2, w3)"
      ],
      "execution_count": 60,
      "outputs": [
        {
          "output_type": "stream",
          "text": [
            "epoch     0 loss : 0.357763938070980\n",
            "epoch  1000 loss : 0.245331956689971\n",
            "epoch  2000 loss : 0.027947291574361\n",
            "epoch  3000 loss : 0.015083610576100\n",
            "epoch  4000 loss : 0.011396653320568\n",
            "epoch  5000 loss : 0.009394775899090\n",
            "epoch  6000 loss : 0.008027001263496\n",
            "epoch  7000 loss : 0.006986238144574\n",
            "epoch  8000 loss : 0.006149136503172\n",
            "epoch  9000 loss : 0.005455057432452\n",
            "epoch 10000 loss : 0.004869252955438\n",
            "epoch 11000 loss : 0.004369227501370\n",
            "epoch 12000 loss : 0.003939018348824\n",
            "epoch 13000 loss : 0.003566567542294\n",
            "epoch 14000 loss : 0.003242403152720\n",
            "epoch 15000 loss : 0.002958908131034\n",
            "epoch 16000 loss : 0.002709869436606\n",
            "epoch 17000 loss : 0.002490172312356\n",
            "epoch 18000 loss : 0.002295577943657\n",
            "epoch 19000 loss : 0.002122554385488\n",
            "epoch 20000 loss : 0.001968144588393\n",
            "epoch 21000 loss : 0.001829861807333\n",
            "epoch 22000 loss : 0.001705605932816\n",
            "epoch 23000 loss : 0.001593596124280\n",
            "epoch 24000 loss : 0.001492316291665\n",
            "epoch 25000 loss : 0.001400470777427\n",
            "epoch 26000 loss : 0.001316948180664\n",
            "epoch 27000 loss : 0.001240791709756\n",
            "epoch 28000 loss : 0.001171174791152\n",
            "epoch 29000 loss : 0.001107380926467\n",
            "epoch 30000 loss : 0.001048786996273\n",
            "epoch 31000 loss : 0.000994849370622\n",
            "epoch 32000 loss : 0.000945092313437\n",
            "epoch 33000 loss : 0.000899098268351\n",
            "epoch 34000 loss : 0.000856499693093\n",
            "epoch 35000 loss : 0.000816972172841\n",
            "epoch 36000 loss : 0.000780228593425\n",
            "epoch 37000 loss : 0.000746014195728\n",
            "epoch 38000 loss : 0.000714102365106\n",
            "epoch 39000 loss : 0.000684291035844\n",
            "epoch 40000 loss : 0.000656399611856\n",
            "epoch 41000 loss : 0.000630266322008\n",
            "epoch 42000 loss : 0.000605745942446\n",
            "epoch 43000 loss : 0.000582707829714\n",
            "epoch 44000 loss : 0.000561034217825\n",
            "epoch 45000 loss : 0.000540618740093\n",
            "epoch 46000 loss : 0.000521365142911\n",
            "epoch 47000 loss : 0.000503186163838\n",
            "epoch 48000 loss : 0.000486002550730\n",
            "epoch 49000 loss : 0.000469742202231\n"
          ],
          "name": "stdout"
        },
        {
          "output_type": "display_data",
          "data": {
            "image/png": "[encoded data removed]",
            "text/plain": [
              "<Figure size 432x288 with 2 Axes>"
            ]
          },
          "metadata": {
            "tags": [],
            "needs_background": "light"
          }
        },
        {
          "output_type": "display_data",
          "data": {
            "image/png": "[encoded data removed]",
            "text/plain": [
              "<Figure size 432x288 with 1 Axes>"
            ]
          },
          "metadata": {
            "tags": [],
            "needs_background": "light"
          }
        }
      ]
    },
    {
      "cell_type": "markdown",
      "metadata": {
        "id": "OvLRBg4q426U"
      },
      "source": [
        "## 2. XOR dataset"
      ]
    },
    {
      "cell_type": "code",
      "metadata": {
        "colab": {
          "base_uri": "https://localhost:8080/",
          "height": 1000
        },
        "id": "ee7ZmIY642Xd",
        "outputId": "1cf8ae58-cdb9-4a68-c731-62d9f8f24cd5"
      },
      "source": [
        "# Random weights initialization\n",
        "w1 = np.random.uniform(size=(input_Neurons, hid1_Neurons))\n",
        "w2 = np.random.uniform(size=(hid1_Neurons, hid2_Neurons))\n",
        "w3 = np.random.uniform(size=(hid2_Neurons, output_Neurons))\n",
        "\n",
        "# Define epochs and learning rate\n",
        "epochs = 50000\n",
        "lr = 0.1\n",
        "\n",
        "x, t = generate_XOR_easy()\n",
        "train(epochs, lr, x, t, w1, w2, w3)"
      ],
      "execution_count": 64,
      "outputs": [
        {
          "output_type": "stream",
          "text": [
            "epoch     0 loss : 0.307514832839266\n",
            "epoch  1000 loss : 0.249465045911777\n",
            "epoch  2000 loss : 0.249459624873353\n",
            "epoch  3000 loss : 0.249454501164008\n",
            "epoch  4000 loss : 0.249448692672760\n",
            "epoch  5000 loss : 0.249440987259974\n",
            "epoch  6000 loss : 0.249428966032728\n",
            "epoch  7000 loss : 0.249405961501141\n",
            "epoch  8000 loss : 0.249347978942331\n",
            "epoch  9000 loss : 0.249125850332017\n",
            "epoch 10000 loss : 0.247088304281435\n",
            "epoch 11000 loss : 0.193230526823903\n",
            "epoch 12000 loss : 0.093245925870184\n",
            "epoch 13000 loss : 0.048020119584825\n",
            "epoch 14000 loss : 0.012218699290464\n",
            "epoch 15000 loss : 0.002927479580109\n",
            "epoch 16000 loss : 0.001250846150457\n",
            "epoch 17000 loss : 0.000736993074339\n",
            "epoch 18000 loss : 0.000507637824747\n",
            "epoch 19000 loss : 0.000381931692059\n",
            "epoch 20000 loss : 0.000303859932198\n",
            "epoch 21000 loss : 0.000251162571906\n",
            "epoch 22000 loss : 0.000213425259314\n",
            "epoch 23000 loss : 0.000185183630182\n",
            "epoch 24000 loss : 0.000163316586697\n",
            "epoch 25000 loss : 0.000145921103087\n",
            "epoch 26000 loss : 0.000131775143019\n",
            "epoch 27000 loss : 0.000120060235539\n",
            "epoch 28000 loss : 0.000110208753841\n",
            "epoch 29000 loss : 0.000101815314462\n",
            "epoch 30000 loss : 0.000094583064486\n",
            "epoch 31000 loss : 0.000088289877605\n",
            "epoch 32000 loss : 0.000082766383065\n",
            "epoch 33000 loss : 0.000077881279367\n",
            "epoch 34000 loss : 0.000073531272612\n",
            "epoch 35000 loss : 0.000069634031289\n",
            "epoch 36000 loss : 0.000066123156376\n",
            "epoch 37000 loss : 0.000062944527108\n",
            "epoch 38000 loss : 0.000060053604088\n",
            "epoch 39000 loss : 0.000057413410347\n",
            "epoch 40000 loss : 0.000054993000167\n",
            "epoch 41000 loss : 0.000052766283957\n",
            "epoch 42000 loss : 0.000050711116487\n",
            "epoch 43000 loss : 0.000048808582326\n",
            "epoch 44000 loss : 0.000047042430593\n",
            "epoch 45000 loss : 0.000045398623963\n",
            "epoch 46000 loss : 0.000043864975944\n",
            "epoch 47000 loss : 0.000042430856952\n",
            "epoch 48000 loss : 0.000041086954484\n",
            "epoch 49000 loss : 0.000039825076142\n"
          ],
          "name": "stdout"
        },
        {
          "output_type": "display_data",
          "data": {
            "image/png": "[encoded data removed]",
            "text/plain": [
              "<Figure size 432x288 with 2 Axes>"
            ]
          },
          "metadata": {
            "tags": [],
            "needs_background": "light"
          }
        },
        {
          "output_type": "display_data",
          "data": {
            "image/png": "[encoded data removed]",
            "text/plain": [
              "<Figure size 432x288 with 1 Axes>"
            ]
          },
          "metadata": {
            "tags": [],
            "needs_background": "light"
          }
        }
      ]
    }
  ]
}