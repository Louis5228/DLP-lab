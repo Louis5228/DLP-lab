{
  "nbformat": 4,
  "nbformat_minor": 0,
  "metadata": {
    "colab": {
      "name": "Lab1 : back-propagation.ipynb",
      "provenance": [],
      "authorship_tag": "ABX9TyOKw2khGm1S6ZVPa4j8al3z",
      "include_colab_link": true
    },
    "kernelspec": {
      "name": "python3",
      "display_name": "Python 3"
    },
    "language_info": {
      "name": "python"
    }
  },
  "cells": [
    {
      "cell_type": "markdown",
      "metadata": {
        "id": "view-in-github",
        "colab_type": "text"
      },
      "source": [
        "<a href=\"https://colab.research.google.com/github/Louis5228/DLP-lab/blob/main/Lab1_back_propagation.ipynb\" target=\"_parent\"><img src=\"https://colab.research.google.com/assets/colab-badge.svg\" alt=\"Open In Colab\"/></a>"
      ]
    },
    {
      "cell_type": "code",
      "metadata": {
        "id": "mHmWlLhDNr9N"
      },
      "source": [
        "import numpy as np\n",
        "import matplotlib.pyplot as plt"
      ],
      "execution_count": 15,
      "outputs": []
    },
    {
      "cell_type": "code",
      "metadata": {
        "id": "jKZtjROzOFvN"
      },
      "source": [
        "def sigmoid(x):\n",
        "  return 1.0 / (1.0 + np.exp(-x))\n",
        "\n",
        "def derivative_sigmoid(x):\n",
        "  return np.multiply(x, 1.0 - x)\n",
        "\n",
        "def generate_linear(n = 100):\n",
        "  pts = np.random.uniform(0, 1, (n, 2))\n",
        "  inputs = []\n",
        "  labels = []\n",
        "  for pt in pts:\n",
        "    inputs.append([pt[0], pt[1]])\n",
        "    distance = (pt[0] - pt[1]) / 1.414\n",
        "    if pt[0] > pt[1]:\n",
        "      labels.append(0)\n",
        "    else:\n",
        "      labels.append(1)\n",
        "  return np.array(inputs), np.array(labels).reshape(n, 1)\n",
        "\n",
        "def generate_XOR_easy():\n",
        "  inputs = []\n",
        "  labels = []\n",
        "  for i in range(11):\n",
        "    inputs.append([0.1*i, 0.1*i])\n",
        "    labels.append(0)\n",
        "\n",
        "    if 0.1*i == 0.5:\n",
        "      continue\n",
        "    \n",
        "    inputs.append([0.1*i, 1 - 0.1*i])\n",
        "    labels.append(1)\n",
        "\n",
        "  return np.array(inputs), np.array(labels).reshape(21, 1)\n",
        "\n",
        "def show_result(x, y, pred_y):\n",
        "  plt.subplot(121)\n",
        "  plt.title(\"Ground truth\", fontsize=18)\n",
        "  for i in range(x.shape[0]):\n",
        "    if y[i] == 0:\n",
        "      plt.plot(x[i][0], x[i][1], 'ro')\n",
        "    else:\n",
        "      plt.plot(x[i][0], x[i][1], 'bo')\n",
        "  \n",
        "  plt.subplot(122)\n",
        "  plt.title(\"Predict result\", fontsize=18)\n",
        "  for i in range(x.shape[0]):\n",
        "    if pred_y[i] == 0:\n",
        "      plt.plot(x[i][0], x[i][1], 'ro')\n",
        "    else:\n",
        "      plt.plot(x[i][0], x[i][1], 'bo')\n",
        "  \n",
        "  plt.show()"
      ],
      "execution_count": 17,
      "outputs": []
    },
    {
      "cell_type": "code",
      "metadata": {
        "id": "YHRoCqQYR0LP"
      },
      "source": [
        ""
      ],
      "execution_count": null,
      "outputs": []
    }
  ]
}