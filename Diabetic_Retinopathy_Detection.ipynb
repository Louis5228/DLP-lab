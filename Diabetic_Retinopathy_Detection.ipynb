{
  "nbformat": 4,
  "nbformat_minor": 0,
  "metadata": {
    "colab": {
      "name": "Diabetic Retinopathy Detection.ipynb",
      "provenance": [],
      "authorship_tag": "ABX9TyO5fft8+4e1DkU7EESSfpO0",
      "include_colab_link": true
    },
    "kernelspec": {
      "name": "python3",
      "display_name": "Python 3"
    },
    "language_info": {
      "name": "python"
    }
  },
  "cells": [
    {
      "cell_type": "markdown",
      "metadata": {
        "id": "view-in-github",
        "colab_type": "text"
      },
      "source": [
        "<a href=\"https://colab.research.google.com/github/Louis5228/DLP-lab/blob/main/Diabetic_Retinopathy_Detection.ipynb\" target=\"_parent\"><img src=\"https://colab.research.google.com/assets/colab-badge.svg\" alt=\"Open In Colab\"/></a>"
      ]
    },
    {
      "cell_type": "code",
      "metadata": {
        "colab": {
          "base_uri": "https://localhost:8080/"
        },
        "id": "F93huqnXb5j9",
        "outputId": "eeeca0fd-2a0d-4b3b-ad74-ecfe78948a6f"
      },
      "source": [
        "%cd DLP-lab/Lab4/"
      ],
      "execution_count": 1,
      "outputs": [
        {
          "output_type": "stream",
          "text": [
            "/home/louis/DLP-lab/Lab4\n"
          ],
          "name": "stdout"
        }
      ]
    },
    {
      "cell_type": "code",
      "metadata": {
        "id": "3CSzHUwzcCua"
      },
      "source": [
        "import os\n",
        "import numpy as np\n",
        "import pandas as pd\n",
        "import matplotlib.pyplot as plt\n",
        "import torch\n",
        "import torch.nn as nn\n",
        "import torch.nn.functional as F\n",
        "import torch.optim as optim\n",
        "from torch.utils.data import TensorDataset, DataLoader\n",
        "from torchvision import transforms, models\n",
        "from PIL import Image\n",
        "from dataloader import RetinopathyLoader"
      ],
      "execution_count": 2,
      "outputs": []
    },
    {
      "cell_type": "code",
      "metadata": {
        "id": "fPHfMM8tcxWa"
      },
      "source": [
        "class ResNet18(nn.Module):\n",
        "  def __init__(self, num_class, pretrained=False):\n",
        "    \"\"\"\n",
        "    Args:\n",
        "        num_class: #target class\n",
        "        pretrained: \n",
        "            True: the model will have pretrained weights, and only the last layer's 'requires_grad' is True(trainable)\n",
        "            False: random initialize weights, and all layer's 'require_grad' is True\n",
        "    \"\"\"\n",
        "    super(ResNet18, self).__init__()\n",
        "    self.model = models.resnet18(pretrained=pretrained)\n",
        "    if pretrained:\n",
        "      for param in self.model.parameters():\n",
        "        param.requires_grad = False\n",
        "    num_neurons = self.model.fc.in_features\n",
        "    self.model.fc = nn.Linear(num_neurons, num_class)\n",
        "      \n",
        "  def forward(self, x):\n",
        "    out = self.model(x)\n",
        "    return out"
      ],
      "execution_count": 3,
      "outputs": []
    },
    {
      "cell_type": "code",
      "metadata": {
        "id": "FiqphvNNgQkT"
      },
      "source": [
        "class ResNet50(nn.Module):\n",
        "  def __init__(self, num_class, pretrained=False):\n",
        "    super(ResNet50, self).__init__()\n",
        "    self.model = models.resnet50(pretrained=pretrained)\n",
        "    if pretrained:\n",
        "      for param in self.model.parameters():\n",
        "        param.requires_grad = False\n",
        "    num_neurons = self.model.fc.in_features\n",
        "    self.model.fc = nn.Linear(num_neurons, num_class)\n",
        "      \n",
        "  def forward(self, x):\n",
        "    out = self.model(x)\n",
        "    return out"
      ],
      "execution_count": 4,
      "outputs": []
    },
    {
      "cell_type": "code",
      "metadata": {
        "id": "gxSGLCm7hhyk"
      },
      "source": [
        "def evaluate(model, loader_test, device, num_class):\n",
        "  confusion_matrix = np.zeros((num_class, num_class))\n",
        "  with torch.no_grad():\n",
        "    correct = 0\n",
        "    for _, data in enumerate(loader_test, 0):\n",
        "      inputs = data[0].to(device)\n",
        "      labels = data[1].to(device, dtype=torch.long)\n",
        "      predict = model(inputs)\n",
        "      predict_class = predict.max(dim=1)[1]\n",
        "      correct += predict_class.eq(labels).sum().item()\n",
        "      for i in range(len(labels)):\n",
        "        confusion_matrix[int(labels[i])][int(predict_class[i])] += 1\n",
        "    correct = (correct / len(loader_test.dataset)) * 100.0\n",
        "  \n",
        "  confusion_matrix = confusion_matrix / confusion_matrix.sum(axis=1).reshape(num_class, 1)\n",
        "\n",
        "  return confusion_matrix, correct"
      ],
      "execution_count": 5,
      "outputs": []
    },
    {
      "cell_type": "code",
      "metadata": {
        "id": "EZycY_YM7ovY"
      },
      "source": [
        "def train(model, loader_train, loader_test, num_class, epochs, optimizer, criterion, device, name):\n",
        "  print(\"Start training {} weights\".format(name))\n",
        "  df = pd.DataFrame()\n",
        "  df['epoch'] = range(1, epochs + 1)\n",
        "  model.to(device)\n",
        "  train_acc = []\n",
        "  test_acc = []\n",
        "\n",
        "  for epoch in range(1, epochs+1):\n",
        "    ## train\n",
        "    model.train()\n",
        "    running_loss = 0\n",
        "    correct = 0\n",
        "    for i, data in enumerate(loader_train, 0):\n",
        "      # get the inputs\n",
        "      inputs = data[0].to(device)\n",
        "      labels = data[1].to(device, dtype=torch.long)\n",
        "\n",
        "      # zero the parameter gradients\n",
        "      optimizer.zero_grad()\n",
        "\n",
        "      # forward + backward + optimize\n",
        "      predict = model(inputs)\n",
        "      loss = criterion(predict, labels)\n",
        "      running_loss += loss.item()\n",
        "      correct += predict.max(dim=1)[1].eq(labels).sum().item()\n",
        "      loss.backward()\n",
        "      optimizer.step()\n",
        "\n",
        "    running_loss /= len(loader_train.dataset)\n",
        "    train_correct = (correct / len(loader_train.dataset)) * 100.0\n",
        "    train_acc.append(train_correct)\n",
        "\n",
        "    ## test\n",
        "    model.eval()\n",
        "    _, test_correct = evaluate(model, loader_test, device, num_class)\n",
        "    test_acc.append(test_correct)\n",
        "\n",
        "    print(\"[Train] epcoh{:>4d}  loss:{:.5f}  acc:{:.2f}%    [Test] acc:{:.2f}%\".format(epoch, running_loss, train_correct, test_correct))\n",
        "\n",
        "  df['train_acc'] = train_acc\n",
        "  df['test_acc'] = test_acc\n",
        "  print(\"Finished training {} weights\".format(name))\n",
        "\n",
        "  return df"
      ],
      "execution_count": 21,
      "outputs": []
    },
    {
      "cell_type": "code",
      "metadata": {
        "id": "KKAYYu_5IBwn"
      },
      "source": [
        "def plot_confusion_matrix(matrix):\n",
        "  fig, ax = plt.subplots(figsize=(6,6))\n",
        "  ax.matshow(matrix, cmap='Blues')\n",
        "  for i in range(matrix.shape[0]):\n",
        "    for j in range(matrix.shape[1]):\n",
        "      ax.text(i, j, '{:.2f}'.format(matrix[j, i]), va='center', ha='center')\n",
        "  ax.set_xlabel('Predicted label')\n",
        "  ax.set_ylabel('True label')\n",
        "  return fig"
      ],
      "execution_count": 13,
      "outputs": []
    },
    {
      "cell_type": "code",
      "metadata": {
        "colab": {
          "base_uri": "https://localhost:8080/"
        },
        "id": "SKrPHKjGhC5w",
        "outputId": "c43721b1-4183-467b-bf44-69d9839d1f46"
      },
      "source": [
        "print(torch.__version__)\n",
        "device = torch.device('cuda' if torch.cuda.is_available() else 'cpu')\n",
        "print(device)"
      ],
      "execution_count": 7,
      "outputs": [
        {
          "output_type": "stream",
          "text": [
            "1.6.0+cu101\n",
            "cuda\n"
          ],
          "name": "stdout"
        }
      ]
    },
    {
      "cell_type": "code",
      "metadata": {
        "id": "IYYcGIgEJp_B"
      },
      "source": [
        "plt.cm.Blues"
      ],
      "execution_count": null,
      "outputs": []
    },
    {
      "cell_type": "markdown",
      "metadata": {
        "id": "7Whw0UqppK6V"
      },
      "source": [
        "## ResNet18"
      ]
    },
    {
      "cell_type": "code",
      "metadata": {
        "id": "OaZzqIR3o6pb"
      },
      "source": [
        "num_class = 5\n",
        "batch_size = 4\n",
        "lr = 0.001\n",
        "epochs = 20\n",
        "epochs_extraction = 5\n",
        "epochs_finetune = epochs - epochs_extraction\n",
        "momentum = 0.9\n",
        "weight_decay = 5e-4\n",
        "criterion = nn.CrossEntropyLoss()"
      ],
      "execution_count": 22,
      "outputs": []
    },
    {
      "cell_type": "code",
      "metadata": {
        "colab": {
          "base_uri": "https://localhost:8080/"
        },
        "id": "jgNXNp5upy3G",
        "outputId": "33486c5b-f368-4d58-d3af-3cedc305a44a"
      },
      "source": [
        "dataset_train = RetinopathyLoader(root = './data', mode = 'train')\n",
        "loader_train = DataLoader(dataset_train, batch_size=batch_size, shuffle=True, num_workers=4)\n",
        "\n",
        "dataset_test = RetinopathyLoader(root = './data', mode = 'test')\n",
        "loader_test = DataLoader(dataset_test, batch_size=batch_size, shuffle=False, num_workers=4)"
      ],
      "execution_count": 16,
      "outputs": [
        {
          "output_type": "stream",
          "text": [
            ">> Found 28099 images...\n",
            ">> Found 7025 images...\n"
          ],
          "name": "stdout"
        }
      ]
    },
    {
      "cell_type": "code",
      "metadata": {
        "colab": {
          "base_uri": "https://localhost:8080/"
        },
        "id": "CfjZazvl7RWy",
        "outputId": "45e46056-a48d-4fc2-a2b3-631e5a268f30"
      },
      "source": [
        "'''\n",
        "ResNet18 w/o pretrained weights\n",
        "'''\n",
        "model_wo = ResNet18(num_class=num_class, pretrained=False)\n",
        "optimizer = optim.SGD(model_wo.parameters(), lr=lr, momentum=momentum, weight_decay=weight_decay)\n",
        "df_wo_pretrained = train(model_wo, loader_train, loader_test, num_class, epochs, optimizer, criterion, device, 'ResNet18 w/o pretrained')\n",
        "\n",
        "# get a confusion matrix\n",
        "confusion_matrix, _ = evaluate(model_wo, loader_test, device, num_class)\n",
        "figure = plot_confusion_matrix(confusion_matrix)\n",
        "figure.savefig('ResNet18 (w/o pretrained weights).png')\n",
        "\n",
        "'''\n",
        "ResNet18 with pretrained weights\n",
        "'''\n",
        "model_with = ResNet18(num_class=num_class, pretrained=True)\n",
        "\n",
        "# feature extraction\n",
        "params_to_update = []\n",
        "for _, param in model_with.named_parameters():\n",
        "  if param.requires_grad:\n",
        "    params_to_update.append(param)\n",
        "\n",
        "optimizer = optim.SGD(params_to_update, lr=lr, momentum=momentum, weight_decay=weight_decay)\n",
        "df_extraction = train(model_with, loader_train, loader_test, num_class, epochs_extraction, optimizer, criterion, device, 'ResNet18 with pretrained')\n",
        "\n",
        "# finetuning\n",
        "for param in model_with.parameters():\n",
        "  param.requires_grad = True\n",
        "\n",
        "optimizer = optim.SGD(model_with.parameters(), lr=lr, momentum=momentum, weight_decay=weight_decay)\n",
        "df_finetune = train(model_with, loader_train, loader_test, num_class, epochs_finetune, optimizer, criterion, device, 'ResNet18 with pretrained')\n",
        "\n",
        "df_with_pretrained = pd.concat([df_extraction, df_finetune], axis=0, ignore_index=True)\n",
        "\n",
        "# get a confusion matrix\n",
        "confusion_matrix, _ = evaluate(model_with, loader_test, device, num_class)\n",
        "figure = plot_confusion_matrix(confusion_matrix)\n",
        "figure.savefig('ResNet18 (with pretrained weights).png')"
      ],
      "execution_count": null,
      "outputs": [
        {
          "output_type": "stream",
          "text": [
            "Start training ResNet18 w/o pretrained weights\n",
            "[Train] epcoh   1  loss:0.22409  acc:73.27%    [Test] acc:72.65%\n"
          ],
          "name": "stdout"
        }
      ]
    },
    {
      "cell_type": "code",
      "metadata": {
        "id": "3aNigLKROaKE"
      },
      "source": [
        "plt.figure(figsize=(10, 6))\n",
        "\n",
        "for name in df_wo_pretrained.columns[1:]:\n",
        "  plt.plot(range(1, 1 + len(df_wo_pretrained)), name, data=df_wo_pretrained, label=name[4:]+'(w/o pretraining)')\n",
        "for name in df_with_pretrained.columns[1:]:\n",
        "  plt.plot(range(1, 1 + len(df_with_pretrained)), name, data=df_with_pretrained, label=name[4:]+'(with pretraining)')\n",
        "\n",
        "plt.title(\"Result Comparison(ResNet18)\", fontsize = 15)\n",
        "plt.xlabel(\"Epochs\", fontsize = 12)\n",
        "plt.ylabel(\"Accuracy(%)\", fontsize = 12)\n",
        "plt.legend()\n",
        "ply.show()"
      ],
      "execution_count": null,
      "outputs": []
    },
    {
      "cell_type": "markdown",
      "metadata": {
        "id": "Q5EsUTVSP71Q"
      },
      "source": [
        "## ResNet50"
      ]
    },
    {
      "cell_type": "code",
      "metadata": {
        "id": "rwW3csraQBD1"
      },
      "source": [
        ""
      ],
      "execution_count": null,
      "outputs": []
    }
  ]
}